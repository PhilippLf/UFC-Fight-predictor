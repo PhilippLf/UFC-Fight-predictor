{
 "cells": [
  {
   "cell_type": "code",
   "execution_count": 56,
   "metadata": {},
   "outputs": [],
   "source": [
    "import pandas as pd\n",
    "import numpy as np\n",
    "import matplotlib.pyplot as plt\n",
    "import pickle\n",
    "from xgboost import XGBClassifier\n",
    "from sklearn.preprocessing import LabelEncoder\n",
    "import xgboost as xgb\n",
    "from sklearn.model_selection import train_test_split\n",
    "from sklearn.preprocessing import StandardScaler\n",
    "from sklearn.metrics import accuracy_score, classification_report,confusion_matrix, roc_auc_score\n",
    "from sklearn.utils.multiclass import unique_labels\n",
    "from sklearn.model_selection import GridSearchCV, RandomizedSearchCV\n",
    "\n",
    "%matplotlib inline"
   ]
  },
  {
   "cell_type": "code",
   "execution_count": 57,
   "metadata": {},
   "outputs": [],
   "source": [
    "df = pd.read_csv('../data/preprocessed_data.csv')"
   ]
  },
  {
   "cell_type": "code",
   "execution_count": 58,
   "metadata": {},
   "outputs": [],
   "source": [
    "#df_with_names = pd.read_csv('../data/data_filled_nans.csv')"
   ]
  },
  {
   "cell_type": "markdown",
   "metadata": {},
   "source": [
    "#### Drop Draw Rows"
   ]
  },
  {
   "cell_type": "code",
   "execution_count": 59,
   "metadata": {},
   "outputs": [],
   "source": [
    "df.dropna(subset=['Winner'], inplace=True)"
   ]
  },
  {
   "cell_type": "code",
   "execution_count": 60,
   "metadata": {},
   "outputs": [
    {
     "data": {
      "text/html": [
       "<div>\n",
       "<style scoped>\n",
       "    .dataframe tbody tr th:only-of-type {\n",
       "        vertical-align: middle;\n",
       "    }\n",
       "\n",
       "    .dataframe tbody tr th {\n",
       "        vertical-align: top;\n",
       "    }\n",
       "\n",
       "    .dataframe thead th {\n",
       "        text-align: right;\n",
       "    }\n",
       "</style>\n",
       "<table border=\"1\" class=\"dataframe\">\n",
       "  <thead>\n",
       "    <tr style=\"text-align: right;\">\n",
       "      <th></th>\n",
       "      <th>Winner</th>\n",
       "      <th>title_bout</th>\n",
       "      <th>B_avg_KD</th>\n",
       "      <th>B_avg_opp_KD</th>\n",
       "      <th>B_avg_SIG_STR_pct</th>\n",
       "      <th>B_avg_opp_SIG_STR_pct</th>\n",
       "      <th>B_avg_TD_pct</th>\n",
       "      <th>B_avg_opp_TD_pct</th>\n",
       "      <th>B_avg_SUB_ATT</th>\n",
       "      <th>B_avg_opp_SUB_ATT</th>\n",
       "      <th>...</th>\n",
       "      <th>B_Stance_Open Stance</th>\n",
       "      <th>B_Stance_Orthodox</th>\n",
       "      <th>B_Stance_Sideways</th>\n",
       "      <th>B_Stance_Southpaw</th>\n",
       "      <th>B_Stance_Switch</th>\n",
       "      <th>R_Stance_Open Stance</th>\n",
       "      <th>R_Stance_Orthodox</th>\n",
       "      <th>R_Stance_Sideways</th>\n",
       "      <th>R_Stance_Southpaw</th>\n",
       "      <th>R_Stance_Switch</th>\n",
       "    </tr>\n",
       "  </thead>\n",
       "  <tbody>\n",
       "    <tr>\n",
       "      <th>0</th>\n",
       "      <td>Red</td>\n",
       "      <td>False</td>\n",
       "      <td>0.102539</td>\n",
       "      <td>0.765625</td>\n",
       "      <td>0.455488</td>\n",
       "      <td>0.564932</td>\n",
       "      <td>0.152441</td>\n",
       "      <td>0.290742</td>\n",
       "      <td>0.756836</td>\n",
       "      <td>0.000000</td>\n",
       "      <td>...</td>\n",
       "      <td>0</td>\n",
       "      <td>1</td>\n",
       "      <td>0</td>\n",
       "      <td>0</td>\n",
       "      <td>0</td>\n",
       "      <td>0</td>\n",
       "      <td>1</td>\n",
       "      <td>0</td>\n",
       "      <td>0</td>\n",
       "      <td>0</td>\n",
       "    </tr>\n",
       "    <tr>\n",
       "      <th>1</th>\n",
       "      <td>Red</td>\n",
       "      <td>False</td>\n",
       "      <td>0.258088</td>\n",
       "      <td>0.062996</td>\n",
       "      <td>0.574714</td>\n",
       "      <td>0.458967</td>\n",
       "      <td>0.330410</td>\n",
       "      <td>0.183517</td>\n",
       "      <td>0.109620</td>\n",
       "      <td>0.502482</td>\n",
       "      <td>...</td>\n",
       "      <td>0</td>\n",
       "      <td>0</td>\n",
       "      <td>0</td>\n",
       "      <td>1</td>\n",
       "      <td>0</td>\n",
       "      <td>0</td>\n",
       "      <td>1</td>\n",
       "      <td>0</td>\n",
       "      <td>0</td>\n",
       "      <td>0</td>\n",
       "    </tr>\n",
       "    <tr>\n",
       "      <th>2</th>\n",
       "      <td>Red</td>\n",
       "      <td>False</td>\n",
       "      <td>0.000000</td>\n",
       "      <td>0.500000</td>\n",
       "      <td>0.495000</td>\n",
       "      <td>0.500000</td>\n",
       "      <td>0.000000</td>\n",
       "      <td>0.305000</td>\n",
       "      <td>0.000000</td>\n",
       "      <td>0.000000</td>\n",
       "      <td>...</td>\n",
       "      <td>0</td>\n",
       "      <td>1</td>\n",
       "      <td>0</td>\n",
       "      <td>0</td>\n",
       "      <td>0</td>\n",
       "      <td>0</td>\n",
       "      <td>1</td>\n",
       "      <td>0</td>\n",
       "      <td>0</td>\n",
       "      <td>0</td>\n",
       "    </tr>\n",
       "    <tr>\n",
       "      <th>3</th>\n",
       "      <td>Red</td>\n",
       "      <td>False</td>\n",
       "      <td>0.625000</td>\n",
       "      <td>0.000000</td>\n",
       "      <td>0.529687</td>\n",
       "      <td>0.460938</td>\n",
       "      <td>0.740938</td>\n",
       "      <td>0.312500</td>\n",
       "      <td>2.156250</td>\n",
       "      <td>0.562500</td>\n",
       "      <td>...</td>\n",
       "      <td>0</td>\n",
       "      <td>1</td>\n",
       "      <td>0</td>\n",
       "      <td>0</td>\n",
       "      <td>0</td>\n",
       "      <td>0</td>\n",
       "      <td>1</td>\n",
       "      <td>0</td>\n",
       "      <td>0</td>\n",
       "      <td>0</td>\n",
       "    </tr>\n",
       "    <tr>\n",
       "      <th>4</th>\n",
       "      <td>Red</td>\n",
       "      <td>False</td>\n",
       "      <td>0.314453</td>\n",
       "      <td>0.125000</td>\n",
       "      <td>0.444473</td>\n",
       "      <td>0.486660</td>\n",
       "      <td>0.268789</td>\n",
       "      <td>0.628281</td>\n",
       "      <td>0.640625</td>\n",
       "      <td>1.064453</td>\n",
       "      <td>...</td>\n",
       "      <td>0</td>\n",
       "      <td>1</td>\n",
       "      <td>0</td>\n",
       "      <td>0</td>\n",
       "      <td>0</td>\n",
       "      <td>0</td>\n",
       "      <td>1</td>\n",
       "      <td>0</td>\n",
       "      <td>0</td>\n",
       "      <td>0</td>\n",
       "    </tr>\n",
       "  </tbody>\n",
       "</table>\n",
       "<p>5 rows × 160 columns</p>\n",
       "</div>"
      ],
      "text/plain": [
       "  Winner  title_bout  B_avg_KD  B_avg_opp_KD  B_avg_SIG_STR_pct  \\\n",
       "0    Red       False  0.102539      0.765625           0.455488   \n",
       "1    Red       False  0.258088      0.062996           0.574714   \n",
       "2    Red       False  0.000000      0.500000           0.495000   \n",
       "3    Red       False  0.625000      0.000000           0.529687   \n",
       "4    Red       False  0.314453      0.125000           0.444473   \n",
       "\n",
       "   B_avg_opp_SIG_STR_pct  B_avg_TD_pct  B_avg_opp_TD_pct  B_avg_SUB_ATT  \\\n",
       "0               0.564932      0.152441          0.290742       0.756836   \n",
       "1               0.458967      0.330410          0.183517       0.109620   \n",
       "2               0.500000      0.000000          0.305000       0.000000   \n",
       "3               0.460938      0.740938          0.312500       2.156250   \n",
       "4               0.486660      0.268789          0.628281       0.640625   \n",
       "\n",
       "   B_avg_opp_SUB_ATT  ...  B_Stance_Open Stance  B_Stance_Orthodox  \\\n",
       "0           0.000000  ...                     0                  1   \n",
       "1           0.502482  ...                     0                  0   \n",
       "2           0.000000  ...                     0                  1   \n",
       "3           0.562500  ...                     0                  1   \n",
       "4           1.064453  ...                     0                  1   \n",
       "\n",
       "   B_Stance_Sideways  B_Stance_Southpaw  B_Stance_Switch  \\\n",
       "0                  0                  0                0   \n",
       "1                  0                  1                0   \n",
       "2                  0                  0                0   \n",
       "3                  0                  0                0   \n",
       "4                  0                  0                0   \n",
       "\n",
       "   R_Stance_Open Stance  R_Stance_Orthodox  R_Stance_Sideways  \\\n",
       "0                     0                  1                  0   \n",
       "1                     0                  1                  0   \n",
       "2                     0                  1                  0   \n",
       "3                     0                  1                  0   \n",
       "4                     0                  1                  0   \n",
       "\n",
       "   R_Stance_Southpaw  R_Stance_Switch  \n",
       "0                  0                0  \n",
       "1                  0                0  \n",
       "2                  0                0  \n",
       "3                  0                0  \n",
       "4                  0                0  \n",
       "\n",
       "[5 rows x 160 columns]"
      ]
     },
     "execution_count": 60,
     "metadata": {},
     "output_type": "execute_result"
    }
   ],
   "source": [
    "df.head()"
   ]
  },
  {
   "cell_type": "markdown",
   "metadata": {},
   "source": [
    "### Normalizing data"
   ]
  },
  {
   "cell_type": "code",
   "execution_count": 61,
   "metadata": {},
   "outputs": [],
   "source": [
    "df_num = df.select_dtypes(np.number)"
   ]
  },
  {
   "cell_type": "code",
   "execution_count": 62,
   "metadata": {},
   "outputs": [],
   "source": [
    "scaler = StandardScaler()\n",
    "\n",
    "df[list(df_num.columns)] = scaler.fit_transform(df[list(df_num.columns)])"
   ]
  },
  {
   "cell_type": "code",
   "execution_count": 63,
   "metadata": {},
   "outputs": [],
   "source": [
    "with open('../data/standard.scaler', 'wb') as f:\n",
    "    pickle.dump(scaler, f)"
   ]
  },
  {
   "cell_type": "markdown",
   "metadata": {},
   "source": [
    "### Making target variable balanced"
   ]
  },
  {
   "cell_type": "code",
   "execution_count": 9,
   "metadata": {},
   "outputs": [
    {
     "data": {
      "text/plain": [
       "Red     4698\n",
       "Blue    2454\n",
       "Name: Winner, dtype: int64"
      ]
     },
     "execution_count": 9,
     "metadata": {},
     "output_type": "execute_result"
    }
   ],
   "source": [
    "df['Winner'].value_counts()"
   ]
  },
  {
   "cell_type": "code",
   "execution_count": 64,
   "metadata": {},
   "outputs": [],
   "source": [
    "sample = df[df['Winner']=='Red'].sample(n=949)\n",
    "df.drop(sample.index, inplace=True)"
   ]
  },
  {
   "cell_type": "code",
   "execution_count": 65,
   "metadata": {},
   "outputs": [],
   "source": [
    "rename_cols = {}\n",
    "for column in sample.columns:\n",
    "    if column.startswith('B_'):\n",
    "        rename_cols['B_' + column.split('B_', 1)[1]] = 'R_' + column.split('B_', 1)[1]\n",
    "        rename_cols['R_' + column.split('B_', 1)[1]] = 'B_' + column.split('B_', 1)[1]\n",
    "\n",
    "sample.rename(rename_cols, axis='columns', inplace=True)\n",
    "sample.replace({'Winner': 'Red'}, 'Blue', inplace=True)"
   ]
  },
  {
   "cell_type": "code",
   "execution_count": 66,
   "metadata": {},
   "outputs": [],
   "source": [
    "df = pd.concat([df, sample]).sort_index()"
   ]
  },
  {
   "cell_type": "markdown",
   "metadata": {},
   "source": [
    "### Shuffling data"
   ]
  },
  {
   "cell_type": "code",
   "execution_count": 67,
   "metadata": {},
   "outputs": [],
   "source": [
    "sample1 = df[df['Winner']=='Red'].sample(n=1283)\n",
    "sample2 = df[df['Winner']=='Blue'].sample(n=1283)\n",
    "\n",
    "df.drop(sample1.index, inplace=True)\n",
    "df.drop(sample2.index, inplace=True)"
   ]
  },
  {
   "cell_type": "code",
   "execution_count": 68,
   "metadata": {},
   "outputs": [],
   "source": [
    "rename_cols = {}\n",
    "for column in sample.columns:\n",
    "    if column.startswith('B_'):\n",
    "        rename_cols['B_' + column.split('B_', 1)[1]] = 'R_' + column.split('B_', 1)[1]\n",
    "        rename_cols['R_' + column.split('B_', 1)[1]] = 'B_' + column.split('B_', 1)[1]\n",
    "\n",
    "sample1.rename(rename_cols, axis='columns', inplace=True)\n",
    "sample2.rename(rename_cols, axis='columns', inplace=True)"
   ]
  },
  {
   "cell_type": "code",
   "execution_count": 69,
   "metadata": {},
   "outputs": [],
   "source": [
    "sample1.replace({'Winner': 'Red'}, 'Blue', inplace=True)\n",
    "sample2.replace({'Winner': 'Blue'}, 'Red', inplace=True)"
   ]
  },
  {
   "cell_type": "code",
   "execution_count": 70,
   "metadata": {},
   "outputs": [],
   "source": [
    "df = pd.concat([df, sample1, sample2]).sort_index()"
   ]
  },
  {
   "cell_type": "markdown",
   "metadata": {},
   "source": [
    "### Splitting into train, test"
   ]
  },
  {
   "cell_type": "code",
   "execution_count": 18,
   "metadata": {},
   "outputs": [],
   "source": [
    "y = df['Winner']\n",
    "label_encoder = LabelEncoder()\n",
    "label_encoder = label_encoder.fit(y)\n",
    "label_encoded_y = label_encoder.transform(y)\n",
    "# y_test = label_encoder.transform(Test['Winner'])\n",
    "\n",
    "X = df.drop(columns='Winner')\n",
    "# X_test = Test.drop(columns='Winner')\n",
    "# X_test = X_test[X.columns]\n",
    "\n",
    "X_train, X_valid, y_train, y_valid = train_test_split(X, label_encoded_y, test_size=0.1, random_state=41)"
   ]
  },
  {
   "cell_type": "markdown",
   "metadata": {},
   "source": [
    "### Fitting baseline Xgboost"
   ]
  },
  {
   "cell_type": "code",
   "execution_count": 19,
   "metadata": {},
   "outputs": [],
   "source": [
    "def plot_confusion(cm, classes):\n",
    "    fig, ax = plt.subplots()\n",
    "    im = ax.imshow(cm, interpolation='nearest', cmap=plt.cm.Blues)\n",
    "    ax.figure.colorbar(im, ax=ax)\n",
    "    # We want to show all ticks...\n",
    "    ax.set(xticks=np.arange(cm.shape[1]),\n",
    "           yticks=np.arange(cm.shape[0]),\n",
    "           # ... and label them with the respective list entries\n",
    "           xticklabels=classes, yticklabels=classes,\n",
    "           title='Confusion Matrix',\n",
    "           ylabel='True label',\n",
    "           xlabel='Predicted label')\n",
    "    # Loop over data dimensions and create text annotations.\n",
    "    fmt = 'd'\n",
    "    thresh = cm.max() / 2.\n",
    "    for i in range(cm.shape[0]):\n",
    "        for j in range(cm.shape[1]):\n",
    "            ax.text(j, i, format(cm[i, j], fmt),\n",
    "                    ha=\"center\", va=\"center\",\n",
    "                    color=\"white\" if cm[i, j] > thresh else \"black\")\n",
    "    fig.tight_layout()\n",
    "    return ax"
   ]
  },
  {
   "cell_type": "code",
   "execution_count": 20,
   "metadata": {},
   "outputs": [],
   "source": [
    "def modelfit(alg, X_train, y_train, X_valid, y_valid, X_test=None, y_test=None,\n",
    "             useTrainCV=False, test_set=False, cv_folds=5, early_stopping_rounds=50):\n",
    "    \n",
    "    if useTrainCV:\n",
    "        xgb_param = alg.get_xgb_params()\n",
    "        xgtrain = xgb.DMatrix(X_train, label=y_train)\n",
    "        cvresult = xgb.cv(xgb_param, xgtrain, num_boost_round=alg.get_params()['n_estimators'], nfold=cv_folds,\n",
    "            metrics='auc', early_stopping_rounds=early_stopping_rounds)\n",
    "        alg.set_params(n_estimators=cvresult.shape[0])\n",
    "        print(f\"Best number of estimators = {cvresult.shape[0]}\")\n",
    "    \n",
    "    #Fit the algorithm on the data\n",
    "    alg.fit(np.array(X_train), np.array(y_train), eval_metric='auc')\n",
    "    \n",
    "    #Predict train set:\n",
    "    dtrain_predictions = alg.predict(np.array(X_train))\n",
    "    dtrain_predprob = alg.predict_proba(np.array(X_train))[:,1]\n",
    "        \n",
    "    #Predict valid set:\n",
    "    dvalid_predictions = alg.predict(np.array(X_valid))\n",
    "    dvalid_predprob = alg.predict_proba(np.array(X_valid))[:,1]\n",
    "    \n",
    "    #Predict test set:\n",
    "    dtest_predictions = None\n",
    "    if test_set:\n",
    "        dtest_predictions = alg.predict(np.array(X_test))\n",
    "        dtest_predprob = alg.predict_proba(np.array(X_test))[:,1]\n",
    "        \n",
    "    #Print model report:\n",
    "    print(\"\\nModel Report: \")\n",
    "    if useTrainCV:\n",
    "        print(f\"AUC Score (Train): {roc_auc_score(y_train, dtrain_predprob)}\")\n",
    "    print(f\"Accuracy (valid): {accuracy_score(y_valid, dvalid_predictions):.4f}\")\n",
    "    print(f\"AUC Score (valid): {roc_auc_score(y_valid, dvalid_predprob):.4f}\")\n",
    "    if test_set:\n",
    "        print(f\"Accuracy (Test): {accuracy_score(y_test, dtest_predictions):.4f}\")\n",
    "        print(f\"AUC Score (Test): {roc_auc_score(y_test, dtest_predprob):.4f}\")\n",
    "    \n",
    "    \n",
    "    return dvalid_predictions, dtest_predictions"
   ]
  },
  {
   "cell_type": "code",
   "execution_count": 21,
   "metadata": {},
   "outputs": [
    {
     "name": "stderr",
     "output_type": "stream",
     "text": [
      "/Users/philipplangfeldt/miniforge3/envs/iron_hack/lib/python3.9/site-packages/xgboost/sklearn.py:835: UserWarning: `eval_metric` in `fit` method is deprecated for better compatibility with scikit-learn, use `eval_metric` in constructor or`set_params` instead.\n",
      "  warnings.warn(\n"
     ]
    },
    {
     "name": "stdout",
     "output_type": "stream",
     "text": [
      "\n",
      "Model Report: \n",
      "Accuracy (valid): 0.6369\n",
      "AUC Score (valid): 0.6955\n"
     ]
    },
    {
     "data": {
      "text/plain": [
       "<Axes: title={'center': 'Confusion Matrix'}, xlabel='Predicted label', ylabel='True label'>"
      ]
     },
     "execution_count": 21,
     "metadata": {},
     "output_type": "execute_result"
    },
    {
     "data": {
      "image/png": "[encoded data removed]",
      "text/plain": [
       "<Figure size 640x480 with 2 Axes>"
      ]
     },
     "metadata": {},
     "output_type": "display_data"
    }
   ],
   "source": [
    "model1 = XGBClassifier(random_state=43, n_jobs=-1)\n",
    "\n",
    "y1_valid_preds, y1_test_preds = modelfit(model1, X_train, y_train, X_valid, y_valid)\n",
    "\n",
    "cm_valid = confusion_matrix(y_valid, y1_valid_preds)\n",
    "# cm_test = confusion_matrix(y_test, y1_test_preds)\n",
    "classes = unique_labels(y_valid, y1_valid_preds)\n",
    "\n",
    "plot_confusion(cm_valid, classes)"
   ]
  },
  {
   "cell_type": "code",
   "execution_count": 22,
   "metadata": {},
   "outputs": [
    {
     "data": {
      "text/plain": [
       "[('R_Stance_Sideways', 0.52555686),\n",
       " ('B_win_by_Decision_Majority', 0.04599345),\n",
       " ('R_win_by_Decision_Split', 0.018157499),\n",
       " ('B_win_by_Decision_Split', 0.005782431),\n",
       " ('R_avg_opp_HEAD_landed', 0.005205152),\n",
       " ('B_avg_SIG_STR_landed', 0.0050297007),\n",
       " ('weight_class_OpenWeight', 0.0047482406),\n",
       " ('B_age', 0.004747171),\n",
       " ('R_win_by_TKO_Doctor_Stoppage', 0.0045316094),\n",
       " ('R_age', 0.0043871417),\n",
       " ('B_avg_GROUND_landed', 0.0043485705),\n",
       " ('B_avg_opp_DISTANCE_landed', 0.0043283156),\n",
       " ('B_Stance_Southpaw', 0.004071611),\n",
       " ('R_avg_opp_SIG_STR_pct', 0.004063913),\n",
       " ('R_losses', 0.004027291),\n",
       " ('B_losses', 0.004023686),\n",
       " ('B_win_by_Decision_Unanimous', 0.0039805644),\n",
       " ('B_Stance_Orthodox', 0.0038652194),\n",
       " ('B_avg_opp_GROUND_att', 0.003848942),\n",
       " ('R_Stance_Switch', 0.0037751377),\n",
       " ('R_avg_opp_DISTANCE_att', 0.0037703586),\n",
       " ('weight_class_Lightweight', 0.0037305097),\n",
       " ('B_Weight_lbs', 0.0037258947),\n",
       " ('weight_class_Bantamweight', 0.003712727),\n",
       " ('B_win_by_TKO_Doctor_Stoppage', 0.003636503),\n",
       " ('R_avg_SIG_STR_landed', 0.003613953),\n",
       " ('B_avg_GROUND_att', 0.0035656858),\n",
       " ('R_Weight_lbs', 0.0034610324),\n",
       " ('R_avg_opp_SIG_STR_landed', 0.003442117),\n",
       " ('R_Stance_Orthodox', 0.0034417417),\n",
       " ('B_avg_opp_KD', 0.0034222063),\n",
       " ('R_avg_opp_DISTANCE_landed', 0.0034161548),\n",
       " ('B_avg_BODY_att', 0.003402462),\n",
       " ('R_avg_opp_TOTAL_STR_att', 0.0033707856),\n",
       " ('B_Reach_cms', 0.0033644438),\n",
       " ('B_avg_DISTANCE_landed', 0.0033181054),\n",
       " ('R_avg_GROUND_att', 0.0032707169),\n",
       " ('B_current_win_streak', 0.003267308),\n",
       " ('R_avg_BODY_att', 0.003250963),\n",
       " ('B_avg_TD_landed', 0.003245268),\n",
       " ('R_avg_DISTANCE_att', 0.0032386638),\n",
       " ('B_avg_HEAD_landed', 0.0032130168),\n",
       " ('R_avg_opp_BODY_att', 0.0031860846),\n",
       " ('R_avg_HEAD_att', 0.0031833074),\n",
       " ('B_avg_opp_REV', 0.0031619759),\n",
       " ('B_avg_opp_CLINCH_att', 0.0031552336),\n",
       " ('R_avg_TD_att', 0.0030953072),\n",
       " ('R_avg_DISTANCE_landed', 0.0030536093),\n",
       " ('R_avg_HEAD_landed', 0.0030522551),\n",
       " ('R_win_by_Decision_Unanimous', 0.0030448483),\n",
       " ('R_win_by_Submission', 0.0030103286),\n",
       " ('B_avg_CTRL_time(seconds)', 0.0029660854),\n",
       " ('B_avg_DISTANCE_att', 0.0029361984),\n",
       " ('R_avg_SIG_STR_att', 0.002905009),\n",
       " ('R_avg_opp_SIG_STR_att', 0.0028963222),\n",
       " ('weight_class_Featherweight', 0.002890156),\n",
       " ('R_wins', 0.0028835216),\n",
       " ('R_avg_opp_KD', 0.0028822974),\n",
       " ('R_avg_CLINCH_landed', 0.002875494),\n",
       " ('B_longest_win_streak', 0.002872434),\n",
       " ('R_avg_opp_TD_att', 0.002865691),\n",
       " ('B_avg_TOTAL_STR_landed', 0.0028605487),\n",
       " ('B_avg_LEG_att', 0.0028366381),\n",
       " ('B_avg_opp_SIG_STR_pct', 0.0028280227),\n",
       " ('B_avg_TD_pct', 0.0028209824),\n",
       " ('R_avg_SUB_ATT', 0.0028082335),\n",
       " ('B_avg_opp_BODY_landed', 0.0027882794),\n",
       " ('B_avg_opp_TD_att', 0.0027836463),\n",
       " ('R_avg_opp_TD_pct', 0.0027753608),\n",
       " ('B_avg_opp_SIG_STR_landed', 0.0027748127),\n",
       " ('R_avg_TD_landed', 0.002771817),\n",
       " ('R_avg_TOTAL_STR_att', 0.00276716),\n",
       " ('R_avg_LEG_att', 0.0027599775),\n",
       " ('R_current_lose_streak', 0.0027448926),\n",
       " ('R_avg_opp_GROUND_landed', 0.0027381696),\n",
       " ('B_avg_SIG_STR_att', 0.0027225323),\n",
       " ('B_avg_opp_GROUND_landed', 0.0027187697),\n",
       " ('R_avg_opp_LEG_landed', 0.0026960266),\n",
       " ('B_avg_TOTAL_STR_att', 0.00268753),\n",
       " ('B_avg_SIG_STR_pct', 0.0026865432),\n",
       " ('R_avg_opp_CLINCH_att', 0.0026499163),\n",
       " ('R_avg_opp_BODY_landed', 0.002599993),\n",
       " ('R_avg_REV', 0.0025960614),\n",
       " ('B_avg_opp_SUB_ATT', 0.0025939432),\n",
       " ('R_avg_TOTAL_STR_landed', 0.0025754943),\n",
       " ('R_avg_opp_REV', 0.0025747495),\n",
       " ('B_avg_opp_CTRL_time(seconds)', 0.0025636626),\n",
       " ('B_avg_opp_TD_pct', 0.00255286),\n",
       " ('B_avg_CLINCH_att', 0.0025452888),\n",
       " ('B_avg_opp_BODY_att', 0.0025335415),\n",
       " ('R_avg_CLINCH_att', 0.0025215845),\n",
       " ('R_avg_opp_TD_landed', 0.0025082703),\n",
       " ('R_avg_opp_HEAD_att', 0.002502227),\n",
       " ('B_avg_opp_LEG_att', 0.002495394),\n",
       " ('R_avg_opp_GROUND_att', 0.0024899044),\n",
       " ('B_avg_TD_att', 0.0024856613),\n",
       " ('B_avg_BODY_landed', 0.0024697408),\n",
       " ('B_wins', 0.002467847),\n",
       " ('B_total_time_fought(seconds)', 0.0024563812),\n",
       " ('B_avg_opp_HEAD_landed', 0.0024459728),\n",
       " ('B_avg_opp_DISTANCE_att', 0.002441257),\n",
       " ('R_avg_opp_CTRL_time(seconds)', 0.0024352395),\n",
       " ('R_avg_LEG_landed', 0.0024057669),\n",
       " ('B_avg_HEAD_att', 0.0024043925),\n",
       " ('R_avg_SIG_STR_pct', 0.0023930662),\n",
       " ('R_avg_opp_CLINCH_landed', 0.0023764835),\n",
       " ('B_current_lose_streak', 0.0023723375),\n",
       " ('R_total_time_fought(seconds)', 0.0023636443),\n",
       " ('R_avg_opp_SUB_ATT', 0.0023588378),\n",
       " ('B_avg_opp_LEG_landed', 0.0023427992),\n",
       " ('B_avg_opp_CLINCH_landed', 0.002329175),\n",
       " ('B_avg_REV', 0.0023226733),\n",
       " ('B_win_by_KO/TKO', 0.0023144775),\n",
       " ('R_Height_cms', 0.0023006056),\n",
       " ('B_avg_opp_TOTAL_STR_att', 0.002279628),\n",
       " ('R_Reach_cms', 0.0022491543),\n",
       " ('R_total_title_bouts', 0.0022360124),\n",
       " ('R_avg_GROUND_landed', 0.0022232188),\n",
       " ('R_current_win_streak', 0.0022079737),\n",
       " ('R_longest_win_streak', 0.0021928896),\n",
       " ('R_Stance_Southpaw', 0.0021703604),\n",
       " ('R_total_rounds_fought', 0.0021400736),\n",
       " ('B_avg_KD', 0.0021265233),\n",
       " ('B_avg_opp_TD_landed', 0.0021113525),\n",
       " ('B_avg_CLINCH_landed', 0.00209334),\n",
       " ('R_avg_CTRL_time(seconds)', 0.0020763339),\n",
       " ('B_avg_SUB_ATT', 0.0020696283),\n",
       " ('R_avg_TD_pct', 0.0020637887),\n",
       " ('B_total_rounds_fought', 0.002061546),\n",
       " ('R_avg_opp_LEG_att', 0.0020506787),\n",
       " ('R_avg_BODY_landed', 0.002038121),\n",
       " ('B_avg_opp_TOTAL_STR_landed', 0.002000421),\n",
       " ('B_win_by_Submission', 0.001999563),\n",
       " ('weight_class_WomenBantamweight', 0.0019778782),\n",
       " ('B_Height_cms', 0.0019764733),\n",
       " ('B_avg_opp_HEAD_att', 0.001963716),\n",
       " ('B_Stance_Switch', 0.0019219995),\n",
       " ('R_avg_KD', 0.0019072905),\n",
       " ('B_avg_opp_SIG_STR_att', 0.0018921302),\n",
       " ('R_avg_opp_TOTAL_STR_landed', 0.0018121944),\n",
       " ('B_avg_LEG_landed', 0.0018042498),\n",
       " ('B_total_title_bouts', 0.0016626361),\n",
       " ('weight_class_Welterweight', 0.0016513246),\n",
       " ('title_bout', 0.0014172839),\n",
       " ('weight_class_LightHeavyweight', 0.0013426368),\n",
       " ('R_win_by_KO/TKO', 0.001322728),\n",
       " ('weight_class_Flyweight', 0.0012416674),\n",
       " ('weight_class_CatchWeight', 0.0010725013),\n",
       " ('weight_class_Heavyweight', 0.0010142277),\n",
       " ('B_draw', 0.0),\n",
       " ('R_draw', 0.0),\n",
       " ('R_win_by_Decision_Majority', 0.0),\n",
       " ('weight_class_Middleweight', 0.0),\n",
       " ('weight_class_WomenFeatherweight', 0.0),\n",
       " ('weight_class_WomenFlyweight', 0.0),\n",
       " ('weight_class_WomenStrawweight', 0.0),\n",
       " ('B_Stance_Open Stance', 0.0),\n",
       " ('B_Stance_Sideways', 0.0),\n",
       " ('R_Stance_Open Stance', 0.0)]"
      ]
     },
     "execution_count": 22,
     "metadata": {},
     "output_type": "execute_result"
    }
   ],
   "source": [
    "feat_imps = {}\n",
    "for i, imp in enumerate(model1.feature_importances_):\n",
    "    feat_imps[X_train.columns[i]] = imp\n",
    "\n",
    "sorted_imp_feats = (sorted(feat_imps.items(), key = lambda x: x[1], reverse=True))\n",
    "sorted_imp_feats"
   ]
  },
  {
   "cell_type": "markdown",
   "metadata": {},
   "source": [
    "### Hyperparameter tuning "
   ]
  },
  {
   "cell_type": "code",
   "execution_count": 23,
   "metadata": {},
   "outputs": [
    {
     "name": "stderr",
     "output_type": "stream",
     "text": [
      "/Users/philipplangfeldt/miniforge3/envs/iron_hack/lib/python3.9/site-packages/xgboost/sklearn.py:835: UserWarning: `eval_metric` in `fit` method is deprecated for better compatibility with scikit-learn, use `eval_metric` in constructor or`set_params` instead.\n",
      "  warnings.warn(\n"
     ]
    },
    {
     "name": "stdout",
     "output_type": "stream",
     "text": [
      "\n",
      "Model Report: \n",
      "Accuracy (valid): 0.6676\n",
      "AUC Score (valid): 0.7228\n"
     ]
    },
    {
     "data": {
      "text/plain": [
       "<Axes: title={'center': 'Confusion Matrix'}, xlabel='Predicted label', ylabel='True label'>"
      ]
     },
     "execution_count": 23,
     "metadata": {},
     "output_type": "execute_result"
    },
    {
     "data": {
      "image/png": "[encoded data removed]",
      "text/plain": [
       "<Figure size 640x480 with 2 Axes>"
      ]
     },
     "metadata": {},
     "output_type": "display_data"
    }
   ],
   "source": [
    "model3 = XGBClassifier(\n",
    " learning_rate =0.1,\n",
    " n_estimators=1000,\n",
    " max_depth=5,\n",
    " min_child_weight=1,\n",
    " gamma=0,\n",
    " subsample=0.8,\n",
    " colsample_bytree=0.8,\n",
    " objective= 'binary:logistic',\n",
    " nthread=4\n",
    "#  scale_pos_weight=0.5,\n",
    ")\n",
    "\n",
    "y3_valid_preds, y3_test_preds = modelfit(model3, X_train, y_train, X_valid, y_valid)\n",
    "\n",
    "cm_valid = confusion_matrix(y_valid, y3_valid_preds)\n",
    "# cm_test = confusion_matrix(y_test, y3_test_preds)\n",
    "classes = unique_labels(y_valid, y3_valid_preds)\n",
    "\n",
    "plot_confusion(cm_valid, classes)"
   ]
  },
  {
   "cell_type": "code",
   "execution_count": 24,
   "metadata": {},
   "outputs": [
    {
     "name": "stderr",
     "output_type": "stream",
     "text": [
      "/Users/philipplangfeldt/miniforge3/envs/iron_hack/lib/python3.9/site-packages/xgboost/sklearn.py:835: UserWarning: `eval_metric` in `fit` method is deprecated for better compatibility with scikit-learn, use `eval_metric` in constructor or`set_params` instead.\n",
      "  warnings.warn(\n"
     ]
    },
    {
     "name": "stdout",
     "output_type": "stream",
     "text": [
      "\n",
      "Model Report: \n",
      "Accuracy (valid): 0.6648\n",
      "AUC Score (valid): 0.7361\n"
     ]
    },
    {
     "data": {
      "text/plain": [
       "<Axes: title={'center': 'Confusion Matrix'}, xlabel='Predicted label', ylabel='True label'>"
      ]
     },
     "execution_count": 24,
     "metadata": {},
     "output_type": "execute_result"
    },
    {
     "data": {
      "image/png": "[encoded data removed]",
      "text/plain": [
       "<Figure size 640x480 with 2 Axes>"
      ]
     },
     "metadata": {},
     "output_type": "display_data"
    }
   ],
   "source": [
    "model5 = XGBClassifier(\n",
    " learning_rate =0.1,\n",
    " n_estimators=120,\n",
    " max_depth=3,\n",
    " min_child_weight=1,\n",
    " gamma=0.3,\n",
    " subsample=1,\n",
    " colsample_bytree=1,\n",
    " objective= 'binary:logistic',\n",
    " nthread=4,\n",
    " scale_pos_weight=1,\n",
    ")\n",
    "\n",
    "y5_valid_preds, y5_test_preds = modelfit(model5, X_train, y_train, X_valid, y_valid)\n",
    "\n",
    "cm_valid = confusion_matrix(y_valid, y5_valid_preds)\n",
    "# cm_test = confusion_matrix(y_test, y5_test_preds)\n",
    "classes = unique_labels(y_valid, y5_valid_preds)\n",
    "\n",
    "plot_confusion(cm_valid, classes)"
   ]
  },
  {
   "cell_type": "code",
   "execution_count": 25,
   "metadata": {},
   "outputs": [
    {
     "name": "stdout",
     "output_type": "stream",
     "text": [
      "              precision    recall  f1-score   support\n",
      "\n",
      "           0       0.63      0.58      0.60       342\n",
      "           1       0.64      0.69      0.67       374\n",
      "\n",
      "    accuracy                           0.64       716\n",
      "   macro avg       0.64      0.63      0.63       716\n",
      "weighted avg       0.64      0.64      0.64       716\n",
      "\n"
     ]
    }
   ],
   "source": [
    "print(classification_report(y_valid, y1_valid_preds))"
   ]
  },
  {
   "cell_type": "code",
   "execution_count": 26,
   "metadata": {},
   "outputs": [
    {
     "name": "stdout",
     "output_type": "stream",
     "text": [
      "              precision    recall  f1-score   support\n",
      "\n",
      "           0       0.67      0.60      0.63       342\n",
      "           1       0.67      0.73      0.70       374\n",
      "\n",
      "    accuracy                           0.67       716\n",
      "   macro avg       0.67      0.66      0.66       716\n",
      "weighted avg       0.67      0.67      0.67       716\n",
      "\n"
     ]
    }
   ],
   "source": [
    "print(classification_report(y_valid, y3_valid_preds))"
   ]
  },
  {
   "cell_type": "code",
   "execution_count": 27,
   "metadata": {},
   "outputs": [
    {
     "name": "stdout",
     "output_type": "stream",
     "text": [
      "              precision    recall  f1-score   support\n",
      "\n",
      "           0       0.67      0.59      0.63       342\n",
      "           1       0.66      0.73      0.69       374\n",
      "\n",
      "    accuracy                           0.66       716\n",
      "   macro avg       0.67      0.66      0.66       716\n",
      "weighted avg       0.67      0.66      0.66       716\n",
      "\n"
     ]
    }
   ],
   "source": [
    "print(classification_report(y_valid, y5_valid_preds))"
   ]
  },
  {
   "cell_type": "code",
   "execution_count": 28,
   "metadata": {},
   "outputs": [
    {
     "data": {
      "text/html": [
       "<style>#sk-container-id-1 {color: black;background-color: white;}#sk-container-id-1 pre{padding: 0;}#sk-container-id-1 div.sk-toggleable {background-color: white;}#sk-container-id-1 label.sk-toggleable__label {cursor: pointer;display: block;width: 100%;margin-bottom: 0;padding: 0.3em;box-sizing: border-box;text-align: center;}#sk-container-id-1 label.sk-toggleable__label-arrow:before {content: \"▸\";float: left;margin-right: 0.25em;color: #696969;}#sk-container-id-1 label.sk-toggleable__label-arrow:hover:before {color: black;}#sk-container-id-1 div.sk-estimator:hover label.sk-toggleable__label-arrow:before {color: black;}#sk-container-id-1 div.sk-toggleable__content {max-height: 0;max-width: 0;overflow: hidden;text-align: left;background-color: #f0f8ff;}#sk-container-id-1 div.sk-toggleable__content pre {margin: 0.2em;color: black;border-radius: 0.25em;background-color: #f0f8ff;}#sk-container-id-1 input.sk-toggleable__control:checked~div.sk-toggleable__content {max-height: 200px;max-width: 100%;overflow: auto;}#sk-container-id-1 input.sk-toggleable__control:checked~label.sk-toggleable__label-arrow:before {content: \"▾\";}#sk-container-id-1 div.sk-estimator input.sk-toggleable__control:checked~label.sk-toggleable__label {background-color: #d4ebff;}#sk-container-id-1 div.sk-label input.sk-toggleable__control:checked~label.sk-toggleable__label {background-color: #d4ebff;}#sk-container-id-1 input.sk-hidden--visually {border: 0;clip: rect(1px 1px 1px 1px);clip: rect(1px, 1px, 1px, 1px);height: 1px;margin: -1px;overflow: hidden;padding: 0;position: absolute;width: 1px;}#sk-container-id-1 div.sk-estimator {font-family: monospace;background-color: #f0f8ff;border: 1px dotted black;border-radius: 0.25em;box-sizing: border-box;margin-bottom: 0.5em;}#sk-container-id-1 div.sk-estimator:hover {background-color: #d4ebff;}#sk-container-id-1 div.sk-parallel-item::after {content: \"\";width: 100%;border-bottom: 1px solid gray;flex-grow: 1;}#sk-container-id-1 div.sk-label:hover label.sk-toggleable__label {background-color: #d4ebff;}#sk-container-id-1 div.sk-serial::before {content: \"\";position: absolute;border-left: 1px solid gray;box-sizing: border-box;top: 0;bottom: 0;left: 50%;z-index: 0;}#sk-container-id-1 div.sk-serial {display: flex;flex-direction: column;align-items: center;background-color: white;padding-right: 0.2em;padding-left: 0.2em;position: relative;}#sk-container-id-1 div.sk-item {position: relative;z-index: 1;}#sk-container-id-1 div.sk-parallel {display: flex;align-items: stretch;justify-content: center;background-color: white;position: relative;}#sk-container-id-1 div.sk-item::before, #sk-container-id-1 div.sk-parallel-item::before {content: \"\";position: absolute;border-left: 1px solid gray;box-sizing: border-box;top: 0;bottom: 0;left: 50%;z-index: -1;}#sk-container-id-1 div.sk-parallel-item {display: flex;flex-direction: column;z-index: 1;position: relative;background-color: white;}#sk-container-id-1 div.sk-parallel-item:first-child::after {align-self: flex-end;width: 50%;}#sk-container-id-1 div.sk-parallel-item:last-child::after {align-self: flex-start;width: 50%;}#sk-container-id-1 div.sk-parallel-item:only-child::after {width: 0;}#sk-container-id-1 div.sk-dashed-wrapped {border: 1px dashed gray;margin: 0 0.4em 0.5em 0.4em;box-sizing: border-box;padding-bottom: 0.4em;background-color: white;}#sk-container-id-1 div.sk-label label {font-family: monospace;font-weight: bold;display: inline-block;line-height: 1.2em;}#sk-container-id-1 div.sk-label-container {text-align: center;}#sk-container-id-1 div.sk-container {/* jupyter's `normalize.less` sets `[hidden] { display: none; }` but bootstrap.min.css set `[hidden] { display: none !important; }` so we also need the `!important` here to be able to override the default hidden behavior on the sphinx rendered scikit-learn.org. See: https://github.com/scikit-learn/scikit-learn/issues/21755 */display: inline-block !important;position: relative;}#sk-container-id-1 div.sk-text-repr-fallback {display: none;}</style><div id=\"sk-container-id-1\" class=\"sk-top-container\"><div class=\"sk-text-repr-fallback\"><pre>XGBClassifier(base_score=None, booster=None, callbacks=None,\n",
       "              colsample_bylevel=None, colsample_bynode=None,\n",
       "              colsample_bytree=0.8, early_stopping_rounds=None,\n",
       "              enable_categorical=False, eval_metric=None, feature_types=None,\n",
       "              gamma=0, gpu_id=None, grow_policy=None, importance_type=None,\n",
       "              interaction_constraints=None, learning_rate=0.1, max_bin=None,\n",
       "              max_cat_threshold=None, max_cat_to_onehot=None,\n",
       "              max_delta_step=None, max_depth=5, max_leaves=None,\n",
       "              min_child_weight=1, missing=nan, monotone_constraints=None,\n",
       "              n_estimators=1000, n_jobs=None, nthread=4, num_parallel_tree=None,\n",
       "              predictor=None, ...)</pre><b>In a Jupyter environment, please rerun this cell to show the HTML representation or trust the notebook. <br />On GitHub, the HTML representation is unable to render, please try loading this page with nbviewer.org.</b></div><div class=\"sk-container\" hidden><div class=\"sk-item\"><div class=\"sk-estimator sk-toggleable\"><input class=\"sk-toggleable__control sk-hidden--visually\" id=\"sk-estimator-id-1\" type=\"checkbox\" checked><label for=\"sk-estimator-id-1\" class=\"sk-toggleable__label sk-toggleable__label-arrow\">XGBClassifier</label><div class=\"sk-toggleable__content\"><pre>XGBClassifier(base_score=None, booster=None, callbacks=None,\n",
       "              colsample_bylevel=None, colsample_bynode=None,\n",
       "              colsample_bytree=0.8, early_stopping_rounds=None,\n",
       "              enable_categorical=False, eval_metric=None, feature_types=None,\n",
       "              gamma=0, gpu_id=None, grow_policy=None, importance_type=None,\n",
       "              interaction_constraints=None, learning_rate=0.1, max_bin=None,\n",
       "              max_cat_threshold=None, max_cat_to_onehot=None,\n",
       "              max_delta_step=None, max_depth=5, max_leaves=None,\n",
       "              min_child_weight=1, missing=nan, monotone_constraints=None,\n",
       "              n_estimators=1000, n_jobs=None, nthread=4, num_parallel_tree=None,\n",
       "              predictor=None, ...)</pre></div></div></div></div></div>"
      ],
      "text/plain": [
       "XGBClassifier(base_score=None, booster=None, callbacks=None,\n",
       "              colsample_bylevel=None, colsample_bynode=None,\n",
       "              colsample_bytree=0.8, early_stopping_rounds=None,\n",
       "              enable_categorical=False, eval_metric=None, feature_types=None,\n",
       "              gamma=0, gpu_id=None, grow_policy=None, importance_type=None,\n",
       "              interaction_constraints=None, learning_rate=0.1, max_bin=None,\n",
       "              max_cat_threshold=None, max_cat_to_onehot=None,\n",
       "              max_delta_step=None, max_depth=5, max_leaves=None,\n",
       "              min_child_weight=1, missing=nan, monotone_constraints=None,\n",
       "              n_estimators=1000, n_jobs=None, nthread=4, num_parallel_tree=None,\n",
       "              predictor=None, ...)"
      ]
     },
     "execution_count": 28,
     "metadata": {},
     "output_type": "execute_result"
    }
   ],
   "source": [
    "model = model3\n",
    "\n",
    "model.fit(np.array(X), np.array(label_encoded_y))"
   ]
  },
  {
   "cell_type": "code",
   "execution_count": 29,
   "metadata": {},
   "outputs": [],
   "source": [
    "with open('../data/xgboost_reshuffled.pkl', 'wb') as f:\n",
    "    pickle.dump(model, f)"
   ]
  },
  {
   "cell_type": "code",
   "execution_count": 30,
   "metadata": {},
   "outputs": [],
   "source": [
    "with open('../data/xgboost_reshuffled.pkl', 'rb') as f:\n",
    "    mdl = pickle.load(f)"
   ]
  },
  {
   "cell_type": "code",
   "execution_count": 31,
   "metadata": {},
   "outputs": [
    {
     "data": {
      "text/plain": [
       "array([1, 1, 1, 1, 1, 0, 1, 1, 0, 0, 1, 1, 0, 0, 0, 1, 0, 1, 1, 0, 1, 0,\n",
       "       1, 1, 1, 0, 1, 1, 1, 0, 1, 1, 0, 0, 0, 1, 0, 0, 1, 1])"
      ]
     },
     "execution_count": 31,
     "metadata": {},
     "output_type": "execute_result"
    }
   ],
   "source": [
    "mdl.predict(np.array(X[:40]))"
   ]
  },
  {
   "cell_type": "markdown",
   "metadata": {},
   "source": [
    "## Winning probability from the model for betting algorithm"
   ]
  },
  {
   "cell_type": "code",
   "execution_count": 32,
   "metadata": {},
   "outputs": [],
   "source": [
    "probs = model5.predict_proba(X)"
   ]
  },
  {
   "cell_type": "code",
   "execution_count": 33,
   "metadata": {},
   "outputs": [],
   "source": [
    "df_test = pd.DataFrame(y)"
   ]
  },
  {
   "cell_type": "code",
   "execution_count": 34,
   "metadata": {},
   "outputs": [],
   "source": [
    "df_test['label'] = label_encoded_y"
   ]
  },
  {
   "cell_type": "code",
   "execution_count": 35,
   "metadata": {},
   "outputs": [
    {
     "data": {
      "text/html": [
       "<div>\n",
       "<style scoped>\n",
       "    .dataframe tbody tr th:only-of-type {\n",
       "        vertical-align: middle;\n",
       "    }\n",
       "\n",
       "    .dataframe tbody tr th {\n",
       "        vertical-align: top;\n",
       "    }\n",
       "\n",
       "    .dataframe thead th {\n",
       "        text-align: right;\n",
       "    }\n",
       "</style>\n",
       "<table border=\"1\" class=\"dataframe\">\n",
       "  <thead>\n",
       "    <tr style=\"text-align: right;\">\n",
       "      <th></th>\n",
       "      <th>Winner</th>\n",
       "      <th>label</th>\n",
       "    </tr>\n",
       "  </thead>\n",
       "  <tbody>\n",
       "    <tr>\n",
       "      <th>0</th>\n",
       "      <td>Red</td>\n",
       "      <td>1</td>\n",
       "    </tr>\n",
       "    <tr>\n",
       "      <th>1</th>\n",
       "      <td>Red</td>\n",
       "      <td>1</td>\n",
       "    </tr>\n",
       "    <tr>\n",
       "      <th>2</th>\n",
       "      <td>Red</td>\n",
       "      <td>1</td>\n",
       "    </tr>\n",
       "    <tr>\n",
       "      <th>3</th>\n",
       "      <td>Red</td>\n",
       "      <td>1</td>\n",
       "    </tr>\n",
       "    <tr>\n",
       "      <th>4</th>\n",
       "      <td>Red</td>\n",
       "      <td>1</td>\n",
       "    </tr>\n",
       "    <tr>\n",
       "      <th>...</th>\n",
       "      <td>...</td>\n",
       "      <td>...</td>\n",
       "    </tr>\n",
       "    <tr>\n",
       "      <th>7149</th>\n",
       "      <td>Red</td>\n",
       "      <td>1</td>\n",
       "    </tr>\n",
       "    <tr>\n",
       "      <th>7150</th>\n",
       "      <td>Red</td>\n",
       "      <td>1</td>\n",
       "    </tr>\n",
       "    <tr>\n",
       "      <th>7151</th>\n",
       "      <td>Red</td>\n",
       "      <td>1</td>\n",
       "    </tr>\n",
       "    <tr>\n",
       "      <th>7152</th>\n",
       "      <td>Red</td>\n",
       "      <td>1</td>\n",
       "    </tr>\n",
       "    <tr>\n",
       "      <th>7153</th>\n",
       "      <td>Red</td>\n",
       "      <td>1</td>\n",
       "    </tr>\n",
       "  </tbody>\n",
       "</table>\n",
       "<p>7152 rows × 2 columns</p>\n",
       "</div>"
      ],
      "text/plain": [
       "     Winner  label\n",
       "0       Red      1\n",
       "1       Red      1\n",
       "2       Red      1\n",
       "3       Red      1\n",
       "4       Red      1\n",
       "...     ...    ...\n",
       "7149    Red      1\n",
       "7150    Red      1\n",
       "7151    Red      1\n",
       "7152    Red      1\n",
       "7153    Red      1\n",
       "\n",
       "[7152 rows x 2 columns]"
      ]
     },
     "execution_count": 35,
     "metadata": {},
     "output_type": "execute_result"
    }
   ],
   "source": [
    "df_test"
   ]
  },
  {
   "cell_type": "code",
   "execution_count": 36,
   "metadata": {},
   "outputs": [
    {
     "data": {
      "text/plain": [
       "array([0, 1])"
      ]
     },
     "execution_count": 36,
     "metadata": {},
     "output_type": "execute_result"
    }
   ],
   "source": [
    "model5.classes_"
   ]
  },
  {
   "cell_type": "code",
   "execution_count": 37,
   "metadata": {},
   "outputs": [],
   "source": [
    "df_probs = pd.DataFrame(probs)"
   ]
  },
  {
   "cell_type": "code",
   "execution_count": 38,
   "metadata": {},
   "outputs": [
    {
     "data": {
      "text/html": [
       "<div>\n",
       "<style scoped>\n",
       "    .dataframe tbody tr th:only-of-type {\n",
       "        vertical-align: middle;\n",
       "    }\n",
       "\n",
       "    .dataframe tbody tr th {\n",
       "        vertical-align: top;\n",
       "    }\n",
       "\n",
       "    .dataframe thead th {\n",
       "        text-align: right;\n",
       "    }\n",
       "</style>\n",
       "<table border=\"1\" class=\"dataframe\">\n",
       "  <thead>\n",
       "    <tr style=\"text-align: right;\">\n",
       "      <th></th>\n",
       "      <th>0</th>\n",
       "      <th>1</th>\n",
       "    </tr>\n",
       "  </thead>\n",
       "  <tbody>\n",
       "    <tr>\n",
       "      <th>0</th>\n",
       "      <td>0.280829</td>\n",
       "      <td>0.719171</td>\n",
       "    </tr>\n",
       "    <tr>\n",
       "      <th>1</th>\n",
       "      <td>0.556441</td>\n",
       "      <td>0.443559</td>\n",
       "    </tr>\n",
       "    <tr>\n",
       "      <th>2</th>\n",
       "      <td>0.362213</td>\n",
       "      <td>0.637787</td>\n",
       "    </tr>\n",
       "    <tr>\n",
       "      <th>3</th>\n",
       "      <td>0.366935</td>\n",
       "      <td>0.633065</td>\n",
       "    </tr>\n",
       "    <tr>\n",
       "      <th>4</th>\n",
       "      <td>0.387949</td>\n",
       "      <td>0.612051</td>\n",
       "    </tr>\n",
       "    <tr>\n",
       "      <th>...</th>\n",
       "      <td>...</td>\n",
       "      <td>...</td>\n",
       "    </tr>\n",
       "    <tr>\n",
       "      <th>7147</th>\n",
       "      <td>0.231432</td>\n",
       "      <td>0.768568</td>\n",
       "    </tr>\n",
       "    <tr>\n",
       "      <th>7148</th>\n",
       "      <td>0.273546</td>\n",
       "      <td>0.726454</td>\n",
       "    </tr>\n",
       "    <tr>\n",
       "      <th>7149</th>\n",
       "      <td>0.224731</td>\n",
       "      <td>0.775269</td>\n",
       "    </tr>\n",
       "    <tr>\n",
       "      <th>7150</th>\n",
       "      <td>0.204518</td>\n",
       "      <td>0.795482</td>\n",
       "    </tr>\n",
       "    <tr>\n",
       "      <th>7151</th>\n",
       "      <td>0.244579</td>\n",
       "      <td>0.755421</td>\n",
       "    </tr>\n",
       "  </tbody>\n",
       "</table>\n",
       "<p>7152 rows × 2 columns</p>\n",
       "</div>"
      ],
      "text/plain": [
       "             0         1\n",
       "0     0.280829  0.719171\n",
       "1     0.556441  0.443559\n",
       "2     0.362213  0.637787\n",
       "3     0.366935  0.633065\n",
       "4     0.387949  0.612051\n",
       "...        ...       ...\n",
       "7147  0.231432  0.768568\n",
       "7148  0.273546  0.726454\n",
       "7149  0.224731  0.775269\n",
       "7150  0.204518  0.795482\n",
       "7151  0.244579  0.755421\n",
       "\n",
       "[7152 rows x 2 columns]"
      ]
     },
     "execution_count": 38,
     "metadata": {},
     "output_type": "execute_result"
    }
   ],
   "source": [
    "df_probs"
   ]
  },
  {
   "cell_type": "code",
   "execution_count": 39,
   "metadata": {},
   "outputs": [],
   "source": [
    "df_probs.columns = ['B_win_prob', 'R_win_prob']"
   ]
  },
  {
   "cell_type": "code",
   "execution_count": 40,
   "metadata": {},
   "outputs": [
    {
     "data": {
      "text/html": [
       "<div>\n",
       "<style scoped>\n",
       "    .dataframe tbody tr th:only-of-type {\n",
       "        vertical-align: middle;\n",
       "    }\n",
       "\n",
       "    .dataframe tbody tr th {\n",
       "        vertical-align: top;\n",
       "    }\n",
       "\n",
       "    .dataframe thead th {\n",
       "        text-align: right;\n",
       "    }\n",
       "</style>\n",
       "<table border=\"1\" class=\"dataframe\">\n",
       "  <thead>\n",
       "    <tr style=\"text-align: right;\">\n",
       "      <th></th>\n",
       "      <th>B_win_prob</th>\n",
       "      <th>R_win_prob</th>\n",
       "    </tr>\n",
       "  </thead>\n",
       "  <tbody>\n",
       "    <tr>\n",
       "      <th>0</th>\n",
       "      <td>0.280829</td>\n",
       "      <td>0.719171</td>\n",
       "    </tr>\n",
       "    <tr>\n",
       "      <th>1</th>\n",
       "      <td>0.556441</td>\n",
       "      <td>0.443559</td>\n",
       "    </tr>\n",
       "    <tr>\n",
       "      <th>2</th>\n",
       "      <td>0.362213</td>\n",
       "      <td>0.637787</td>\n",
       "    </tr>\n",
       "    <tr>\n",
       "      <th>3</th>\n",
       "      <td>0.366935</td>\n",
       "      <td>0.633065</td>\n",
       "    </tr>\n",
       "    <tr>\n",
       "      <th>4</th>\n",
       "      <td>0.387949</td>\n",
       "      <td>0.612051</td>\n",
       "    </tr>\n",
       "    <tr>\n",
       "      <th>...</th>\n",
       "      <td>...</td>\n",
       "      <td>...</td>\n",
       "    </tr>\n",
       "    <tr>\n",
       "      <th>7147</th>\n",
       "      <td>0.231432</td>\n",
       "      <td>0.768568</td>\n",
       "    </tr>\n",
       "    <tr>\n",
       "      <th>7148</th>\n",
       "      <td>0.273546</td>\n",
       "      <td>0.726454</td>\n",
       "    </tr>\n",
       "    <tr>\n",
       "      <th>7149</th>\n",
       "      <td>0.224731</td>\n",
       "      <td>0.775269</td>\n",
       "    </tr>\n",
       "    <tr>\n",
       "      <th>7150</th>\n",
       "      <td>0.204518</td>\n",
       "      <td>0.795482</td>\n",
       "    </tr>\n",
       "    <tr>\n",
       "      <th>7151</th>\n",
       "      <td>0.244579</td>\n",
       "      <td>0.755421</td>\n",
       "    </tr>\n",
       "  </tbody>\n",
       "</table>\n",
       "<p>7152 rows × 2 columns</p>\n",
       "</div>"
      ],
      "text/plain": [
       "      B_win_prob  R_win_prob\n",
       "0       0.280829    0.719171\n",
       "1       0.556441    0.443559\n",
       "2       0.362213    0.637787\n",
       "3       0.366935    0.633065\n",
       "4       0.387949    0.612051\n",
       "...          ...         ...\n",
       "7147    0.231432    0.768568\n",
       "7148    0.273546    0.726454\n",
       "7149    0.224731    0.775269\n",
       "7150    0.204518    0.795482\n",
       "7151    0.244579    0.755421\n",
       "\n",
       "[7152 rows x 2 columns]"
      ]
     },
     "execution_count": 40,
     "metadata": {},
     "output_type": "execute_result"
    }
   ],
   "source": [
    "df_probs"
   ]
  },
  {
   "cell_type": "code",
   "execution_count": 54,
   "metadata": {},
   "outputs": [],
   "source": [
    "#df_probs.to_csv('../data/win_probs.csv')"
   ]
  },
  {
   "cell_type": "code",
   "execution_count": 47,
   "metadata": {
    "tags": []
   },
   "outputs": [],
   "source": [
    "df_raw = pd.read_csv('../data/data.csv')"
   ]
  },
  {
   "cell_type": "code",
   "execution_count": 48,
   "metadata": {},
   "outputs": [],
   "source": [
    "df_probs_names = pd.concat([df_probs, df_raw], axis=1)"
   ]
  },
  {
   "cell_type": "code",
   "execution_count": 49,
   "metadata": {},
   "outputs": [],
   "source": [
    "column_list = list(df_probs_names.columns)\n",
    "column_list.remove('B_win_prob')\n",
    "column_list.remove('R_win_prob')\n",
    "column_list.remove('date')\n",
    "column_list.remove('R_fighter')\n",
    "column_list.remove('B_fighter')"
   ]
  },
  {
   "cell_type": "code",
   "execution_count": 50,
   "metadata": {},
   "outputs": [],
   "source": [
    "df_probs_names.drop(columns=column_list, inplace=True)"
   ]
  },
  {
   "cell_type": "code",
   "execution_count": 55,
   "metadata": {},
   "outputs": [],
   "source": [
    "df_probs_names.to_csv('../data/win_probs_with_names.csv',index=False)"
   ]
  },
  {
   "cell_type": "code",
   "execution_count": null,
   "metadata": {},
   "outputs": [],
   "source": []
  }
 ],
 "metadata": {
  "kernelspec": {
   "display_name": "Python 3 (ipykernel)",
   "language": "python",
   "name": "python3"
  },
  "language_info": {
   "codemirror_mode": {
    "name": "ipython",
    "version": 3
   },
   "file_extension": ".py",
   "mimetype": "text/x-python",
   "name": "python",
   "nbconvert_exporter": "python",
   "pygments_lexer": "ipython3",
   "version": "3.9.17"
  }
 },
 "nbformat": 4,
 "nbformat_minor": 4
}
