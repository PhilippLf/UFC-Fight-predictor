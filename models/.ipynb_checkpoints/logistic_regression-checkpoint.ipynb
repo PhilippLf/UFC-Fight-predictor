{
 "cells": [
  {
   "cell_type": "code",
   "execution_count": 1,
   "id": "87aa2ed9-db23-4e62-b0c5-59bf1c49780b",
   "metadata": {
    "tags": []
   },
   "outputs": [],
   "source": [
    "import pandas as pd\n",
    "import numpy as np\n",
    "import matplotlib.pyplot as plt\n",
    "%matplotlib inline\n",
    "\n",
    "from sklearn.model_selection import train_test_split\n",
    "from sklearn.preprocessing import LabelEncoder\n",
    "from sklearn.preprocessing import StandardScaler\n",
    "from sklearn.linear_model import LogisticRegression\n",
    "from sklearn.utils.multiclass import unique_labels\n",
    "from sklearn.metrics import accuracy_score, classification_report,confusion_matrix"
   ]
  },
  {
   "cell_type": "code",
   "execution_count": 2,
   "id": "1084b845-ede0-425d-b0ef-2db1dfe4b375",
   "metadata": {
    "tags": []
   },
   "outputs": [],
   "source": [
    "df = pd.read_csv('../data/preprocessed_data.csv')"
   ]
  },
  {
   "cell_type": "code",
   "execution_count": 3,
   "id": "14a693ab-ab0a-4644-855e-6d239ebb88fd",
   "metadata": {
    "tags": []
   },
   "outputs": [
    {
     "data": {
      "text/html": [
       "<div>\n",
       "<style scoped>\n",
       "    .dataframe tbody tr th:only-of-type {\n",
       "        vertical-align: middle;\n",
       "    }\n",
       "\n",
       "    .dataframe tbody tr th {\n",
       "        vertical-align: top;\n",
       "    }\n",
       "\n",
       "    .dataframe thead th {\n",
       "        text-align: right;\n",
       "    }\n",
       "</style>\n",
       "<table border=\"1\" class=\"dataframe\">\n",
       "  <thead>\n",
       "    <tr style=\"text-align: right;\">\n",
       "      <th></th>\n",
       "      <th>Winner</th>\n",
       "      <th>title_bout</th>\n",
       "      <th>B_avg_KD</th>\n",
       "      <th>B_avg_opp_KD</th>\n",
       "      <th>B_avg_SIG_STR_pct</th>\n",
       "      <th>B_avg_opp_SIG_STR_pct</th>\n",
       "      <th>B_avg_TD_pct</th>\n",
       "      <th>B_avg_opp_TD_pct</th>\n",
       "      <th>B_avg_SUB_ATT</th>\n",
       "      <th>B_avg_opp_SUB_ATT</th>\n",
       "      <th>...</th>\n",
       "      <th>B_Stance_Open Stance</th>\n",
       "      <th>B_Stance_Orthodox</th>\n",
       "      <th>B_Stance_Sideways</th>\n",
       "      <th>B_Stance_Southpaw</th>\n",
       "      <th>B_Stance_Switch</th>\n",
       "      <th>R_Stance_Open Stance</th>\n",
       "      <th>R_Stance_Orthodox</th>\n",
       "      <th>R_Stance_Sideways</th>\n",
       "      <th>R_Stance_Southpaw</th>\n",
       "      <th>R_Stance_Switch</th>\n",
       "    </tr>\n",
       "  </thead>\n",
       "  <tbody>\n",
       "    <tr>\n",
       "      <th>0</th>\n",
       "      <td>Red</td>\n",
       "      <td>False</td>\n",
       "      <td>0.102539</td>\n",
       "      <td>0.765625</td>\n",
       "      <td>0.455488</td>\n",
       "      <td>0.564932</td>\n",
       "      <td>0.152441</td>\n",
       "      <td>0.290742</td>\n",
       "      <td>0.756836</td>\n",
       "      <td>0.000000</td>\n",
       "      <td>...</td>\n",
       "      <td>0</td>\n",
       "      <td>1</td>\n",
       "      <td>0</td>\n",
       "      <td>0</td>\n",
       "      <td>0</td>\n",
       "      <td>0</td>\n",
       "      <td>1</td>\n",
       "      <td>0</td>\n",
       "      <td>0</td>\n",
       "      <td>0</td>\n",
       "    </tr>\n",
       "    <tr>\n",
       "      <th>1</th>\n",
       "      <td>Red</td>\n",
       "      <td>False</td>\n",
       "      <td>0.258088</td>\n",
       "      <td>0.062996</td>\n",
       "      <td>0.574714</td>\n",
       "      <td>0.458967</td>\n",
       "      <td>0.330410</td>\n",
       "      <td>0.183517</td>\n",
       "      <td>0.109620</td>\n",
       "      <td>0.502482</td>\n",
       "      <td>...</td>\n",
       "      <td>0</td>\n",
       "      <td>0</td>\n",
       "      <td>0</td>\n",
       "      <td>1</td>\n",
       "      <td>0</td>\n",
       "      <td>0</td>\n",
       "      <td>1</td>\n",
       "      <td>0</td>\n",
       "      <td>0</td>\n",
       "      <td>0</td>\n",
       "    </tr>\n",
       "    <tr>\n",
       "      <th>2</th>\n",
       "      <td>Red</td>\n",
       "      <td>False</td>\n",
       "      <td>0.000000</td>\n",
       "      <td>0.500000</td>\n",
       "      <td>0.495000</td>\n",
       "      <td>0.500000</td>\n",
       "      <td>0.000000</td>\n",
       "      <td>0.305000</td>\n",
       "      <td>0.000000</td>\n",
       "      <td>0.000000</td>\n",
       "      <td>...</td>\n",
       "      <td>0</td>\n",
       "      <td>1</td>\n",
       "      <td>0</td>\n",
       "      <td>0</td>\n",
       "      <td>0</td>\n",
       "      <td>0</td>\n",
       "      <td>1</td>\n",
       "      <td>0</td>\n",
       "      <td>0</td>\n",
       "      <td>0</td>\n",
       "    </tr>\n",
       "    <tr>\n",
       "      <th>3</th>\n",
       "      <td>Red</td>\n",
       "      <td>False</td>\n",
       "      <td>0.625000</td>\n",
       "      <td>0.000000</td>\n",
       "      <td>0.529687</td>\n",
       "      <td>0.460938</td>\n",
       "      <td>0.740938</td>\n",
       "      <td>0.312500</td>\n",
       "      <td>2.156250</td>\n",
       "      <td>0.562500</td>\n",
       "      <td>...</td>\n",
       "      <td>0</td>\n",
       "      <td>1</td>\n",
       "      <td>0</td>\n",
       "      <td>0</td>\n",
       "      <td>0</td>\n",
       "      <td>0</td>\n",
       "      <td>1</td>\n",
       "      <td>0</td>\n",
       "      <td>0</td>\n",
       "      <td>0</td>\n",
       "    </tr>\n",
       "    <tr>\n",
       "      <th>4</th>\n",
       "      <td>Red</td>\n",
       "      <td>False</td>\n",
       "      <td>0.314453</td>\n",
       "      <td>0.125000</td>\n",
       "      <td>0.444473</td>\n",
       "      <td>0.486660</td>\n",
       "      <td>0.268789</td>\n",
       "      <td>0.628281</td>\n",
       "      <td>0.640625</td>\n",
       "      <td>1.064453</td>\n",
       "      <td>...</td>\n",
       "      <td>0</td>\n",
       "      <td>1</td>\n",
       "      <td>0</td>\n",
       "      <td>0</td>\n",
       "      <td>0</td>\n",
       "      <td>0</td>\n",
       "      <td>1</td>\n",
       "      <td>0</td>\n",
       "      <td>0</td>\n",
       "      <td>0</td>\n",
       "    </tr>\n",
       "    <tr>\n",
       "      <th>...</th>\n",
       "      <td>...</td>\n",
       "      <td>...</td>\n",
       "      <td>...</td>\n",
       "      <td>...</td>\n",
       "      <td>...</td>\n",
       "      <td>...</td>\n",
       "      <td>...</td>\n",
       "      <td>...</td>\n",
       "      <td>...</td>\n",
       "      <td>...</td>\n",
       "      <td>...</td>\n",
       "      <td>...</td>\n",
       "      <td>...</td>\n",
       "      <td>...</td>\n",
       "      <td>...</td>\n",
       "      <td>...</td>\n",
       "      <td>...</td>\n",
       "      <td>...</td>\n",
       "      <td>...</td>\n",
       "      <td>...</td>\n",
       "      <td>...</td>\n",
       "    </tr>\n",
       "    <tr>\n",
       "      <th>7149</th>\n",
       "      <td>Red</td>\n",
       "      <td>False</td>\n",
       "      <td>0.015869</td>\n",
       "      <td>0.000000</td>\n",
       "      <td>0.457500</td>\n",
       "      <td>0.438750</td>\n",
       "      <td>0.232187</td>\n",
       "      <td>0.200000</td>\n",
       "      <td>0.125000</td>\n",
       "      <td>0.063232</td>\n",
       "      <td>...</td>\n",
       "      <td>0</td>\n",
       "      <td>1</td>\n",
       "      <td>0</td>\n",
       "      <td>0</td>\n",
       "      <td>0</td>\n",
       "      <td>0</td>\n",
       "      <td>0</td>\n",
       "      <td>0</td>\n",
       "      <td>1</td>\n",
       "      <td>0</td>\n",
       "    </tr>\n",
       "    <tr>\n",
       "      <th>7150</th>\n",
       "      <td>Red</td>\n",
       "      <td>False</td>\n",
       "      <td>0.015869</td>\n",
       "      <td>0.000000</td>\n",
       "      <td>0.457500</td>\n",
       "      <td>0.438750</td>\n",
       "      <td>0.232187</td>\n",
       "      <td>0.200000</td>\n",
       "      <td>0.125000</td>\n",
       "      <td>0.063232</td>\n",
       "      <td>...</td>\n",
       "      <td>0</td>\n",
       "      <td>1</td>\n",
       "      <td>0</td>\n",
       "      <td>0</td>\n",
       "      <td>0</td>\n",
       "      <td>0</td>\n",
       "      <td>1</td>\n",
       "      <td>0</td>\n",
       "      <td>0</td>\n",
       "      <td>0</td>\n",
       "    </tr>\n",
       "    <tr>\n",
       "      <th>7151</th>\n",
       "      <td>Red</td>\n",
       "      <td>False</td>\n",
       "      <td>0.015869</td>\n",
       "      <td>0.000000</td>\n",
       "      <td>0.457500</td>\n",
       "      <td>0.438750</td>\n",
       "      <td>0.232187</td>\n",
       "      <td>0.200000</td>\n",
       "      <td>0.125000</td>\n",
       "      <td>0.063232</td>\n",
       "      <td>...</td>\n",
       "      <td>0</td>\n",
       "      <td>1</td>\n",
       "      <td>0</td>\n",
       "      <td>0</td>\n",
       "      <td>0</td>\n",
       "      <td>0</td>\n",
       "      <td>1</td>\n",
       "      <td>0</td>\n",
       "      <td>0</td>\n",
       "      <td>0</td>\n",
       "    </tr>\n",
       "    <tr>\n",
       "      <th>7152</th>\n",
       "      <td>Red</td>\n",
       "      <td>False</td>\n",
       "      <td>0.015869</td>\n",
       "      <td>0.000000</td>\n",
       "      <td>0.457500</td>\n",
       "      <td>0.438750</td>\n",
       "      <td>0.232187</td>\n",
       "      <td>0.200000</td>\n",
       "      <td>0.125000</td>\n",
       "      <td>0.063232</td>\n",
       "      <td>...</td>\n",
       "      <td>0</td>\n",
       "      <td>1</td>\n",
       "      <td>0</td>\n",
       "      <td>0</td>\n",
       "      <td>0</td>\n",
       "      <td>0</td>\n",
       "      <td>1</td>\n",
       "      <td>0</td>\n",
       "      <td>0</td>\n",
       "      <td>0</td>\n",
       "    </tr>\n",
       "    <tr>\n",
       "      <th>7153</th>\n",
       "      <td>Red</td>\n",
       "      <td>False</td>\n",
       "      <td>0.015869</td>\n",
       "      <td>0.000000</td>\n",
       "      <td>0.457500</td>\n",
       "      <td>0.438750</td>\n",
       "      <td>0.232187</td>\n",
       "      <td>0.200000</td>\n",
       "      <td>0.125000</td>\n",
       "      <td>0.063232</td>\n",
       "      <td>...</td>\n",
       "      <td>0</td>\n",
       "      <td>1</td>\n",
       "      <td>0</td>\n",
       "      <td>0</td>\n",
       "      <td>0</td>\n",
       "      <td>0</td>\n",
       "      <td>1</td>\n",
       "      <td>0</td>\n",
       "      <td>0</td>\n",
       "      <td>0</td>\n",
       "    </tr>\n",
       "  </tbody>\n",
       "</table>\n",
       "<p>7154 rows × 160 columns</p>\n",
       "</div>"
      ],
      "text/plain": [
       "     Winner  title_bout  B_avg_KD  B_avg_opp_KD  B_avg_SIG_STR_pct  \\\n",
       "0       Red       False  0.102539      0.765625           0.455488   \n",
       "1       Red       False  0.258088      0.062996           0.574714   \n",
       "2       Red       False  0.000000      0.500000           0.495000   \n",
       "3       Red       False  0.625000      0.000000           0.529687   \n",
       "4       Red       False  0.314453      0.125000           0.444473   \n",
       "...     ...         ...       ...           ...                ...   \n",
       "7149    Red       False  0.015869      0.000000           0.457500   \n",
       "7150    Red       False  0.015869      0.000000           0.457500   \n",
       "7151    Red       False  0.015869      0.000000           0.457500   \n",
       "7152    Red       False  0.015869      0.000000           0.457500   \n",
       "7153    Red       False  0.015869      0.000000           0.457500   \n",
       "\n",
       "      B_avg_opp_SIG_STR_pct  B_avg_TD_pct  B_avg_opp_TD_pct  B_avg_SUB_ATT  \\\n",
       "0                  0.564932      0.152441          0.290742       0.756836   \n",
       "1                  0.458967      0.330410          0.183517       0.109620   \n",
       "2                  0.500000      0.000000          0.305000       0.000000   \n",
       "3                  0.460938      0.740938          0.312500       2.156250   \n",
       "4                  0.486660      0.268789          0.628281       0.640625   \n",
       "...                     ...           ...               ...            ...   \n",
       "7149               0.438750      0.232187          0.200000       0.125000   \n",
       "7150               0.438750      0.232187          0.200000       0.125000   \n",
       "7151               0.438750      0.232187          0.200000       0.125000   \n",
       "7152               0.438750      0.232187          0.200000       0.125000   \n",
       "7153               0.438750      0.232187          0.200000       0.125000   \n",
       "\n",
       "      B_avg_opp_SUB_ATT  ...  B_Stance_Open Stance  B_Stance_Orthodox  \\\n",
       "0              0.000000  ...                     0                  1   \n",
       "1              0.502482  ...                     0                  0   \n",
       "2              0.000000  ...                     0                  1   \n",
       "3              0.562500  ...                     0                  1   \n",
       "4              1.064453  ...                     0                  1   \n",
       "...                 ...  ...                   ...                ...   \n",
       "7149           0.063232  ...                     0                  1   \n",
       "7150           0.063232  ...                     0                  1   \n",
       "7151           0.063232  ...                     0                  1   \n",
       "7152           0.063232  ...                     0                  1   \n",
       "7153           0.063232  ...                     0                  1   \n",
       "\n",
       "      B_Stance_Sideways  B_Stance_Southpaw  B_Stance_Switch  \\\n",
       "0                     0                  0                0   \n",
       "1                     0                  1                0   \n",
       "2                     0                  0                0   \n",
       "3                     0                  0                0   \n",
       "4                     0                  0                0   \n",
       "...                 ...                ...              ...   \n",
       "7149                  0                  0                0   \n",
       "7150                  0                  0                0   \n",
       "7151                  0                  0                0   \n",
       "7152                  0                  0                0   \n",
       "7153                  0                  0                0   \n",
       "\n",
       "      R_Stance_Open Stance  R_Stance_Orthodox  R_Stance_Sideways  \\\n",
       "0                        0                  1                  0   \n",
       "1                        0                  1                  0   \n",
       "2                        0                  1                  0   \n",
       "3                        0                  1                  0   \n",
       "4                        0                  1                  0   \n",
       "...                    ...                ...                ...   \n",
       "7149                     0                  0                  0   \n",
       "7150                     0                  1                  0   \n",
       "7151                     0                  1                  0   \n",
       "7152                     0                  1                  0   \n",
       "7153                     0                  1                  0   \n",
       "\n",
       "      R_Stance_Southpaw  R_Stance_Switch  \n",
       "0                     0                0  \n",
       "1                     0                0  \n",
       "2                     0                0  \n",
       "3                     0                0  \n",
       "4                     0                0  \n",
       "...                 ...              ...  \n",
       "7149                  1                0  \n",
       "7150                  0                0  \n",
       "7151                  0                0  \n",
       "7152                  0                0  \n",
       "7153                  0                0  \n",
       "\n",
       "[7154 rows x 160 columns]"
      ]
     },
     "execution_count": 3,
     "metadata": {},
     "output_type": "execute_result"
    }
   ],
   "source": [
    "df"
   ]
  },
  {
   "cell_type": "markdown",
   "id": "d62293ab-28b3-4d5b-8ad1-118c6529ae94",
   "metadata": {},
   "source": [
    "#### Drop Draw Rows"
   ]
  },
  {
   "cell_type": "code",
   "execution_count": 4,
   "id": "37e9ba48-5b54-419c-8457-361d5d283c14",
   "metadata": {
    "tags": []
   },
   "outputs": [],
   "source": [
    "df.dropna(subset=['Winner'], inplace=True)"
   ]
  },
  {
   "cell_type": "markdown",
   "id": "1711b24d-47d8-47ff-afc2-cecd2cd2ab1a",
   "metadata": {},
   "source": [
    "### Train Test Split"
   ]
  },
  {
   "cell_type": "code",
   "execution_count": 5,
   "id": "5f63bfa4-23c7-42f4-a63c-12edfa3182d8",
   "metadata": {
    "tags": []
   },
   "outputs": [],
   "source": [
    "y = df['Winner']\n",
    "label_encoder = LabelEncoder()\n",
    "label_encoder = label_encoder.fit(y)\n",
    "label_encoded_y = label_encoder.transform(y)\n",
    "\n",
    "X = df.drop(columns = 'Winner')\n",
    "\n",
    "X_train, X_test, y_train, y_test = train_test_split(X, label_encoded_y, test_size=0.2, random_state=42)"
   ]
  },
  {
   "cell_type": "markdown",
   "id": "938d7cac-0bc3-4ef2-a35a-f149630883fb",
   "metadata": {},
   "source": [
    "### Normalizing data"
   ]
  },
  {
   "cell_type": "code",
   "execution_count": 6,
   "id": "a143b911-025e-4cda-b084-5ac06e4ddb9f",
   "metadata": {
    "tags": []
   },
   "outputs": [],
   "source": [
    "scaler = StandardScaler()\n",
    "scaler.fit(X_train)\n",
    "X_train_scaled = scaler.transform(X_train)"
   ]
  },
  {
   "cell_type": "markdown",
   "id": "889e0513-ee6a-4477-bf26-319be8971fe7",
   "metadata": {},
   "source": [
    "### Logistic Regression"
   ]
  },
  {
   "cell_type": "code",
   "execution_count": 7,
   "id": "1270017a-89fc-43ea-b923-bce71db8c182",
   "metadata": {
    "tags": []
   },
   "outputs": [],
   "source": [
    "lr = LogisticRegression(max_iter=302)\n",
    "model = lr.fit(X_train_scaled, y_train)"
   ]
  },
  {
   "cell_type": "code",
   "execution_count": 8,
   "id": "b76f2744-c11b-4bc3-b441-9ee41282a782",
   "metadata": {
    "tags": []
   },
   "outputs": [],
   "source": [
    "X_test_scaled = scaler.transform(X_test)\n",
    "y_preds = model.predict(X_test_scaled)"
   ]
  },
  {
   "cell_type": "code",
   "execution_count": 9,
   "id": "ac962167-0686-4bf3-b124-4eec19bb0452",
   "metadata": {
    "tags": []
   },
   "outputs": [
    {
     "data": {
      "text/plain": [
       "0.6596785464709993"
      ]
     },
     "execution_count": 9,
     "metadata": {},
     "output_type": "execute_result"
    }
   ],
   "source": [
    "accuracy_score(y_test, y_preds)"
   ]
  },
  {
   "cell_type": "code",
   "execution_count": 10,
   "id": "e4f9a8b6-96da-43c7-8326-c65fc5429d3c",
   "metadata": {
    "tags": []
   },
   "outputs": [
    {
     "data": {
      "text/plain": [
       "<Axes: title={'center': 'Confusion Matrix'}, xlabel='Predicted label', ylabel='True label'>"
      ]
     },
     "execution_count": 10,
     "metadata": {},
     "output_type": "execute_result"
    },
    {
     "data": {
      "image/png": "[encoded data removed]",
      "text/plain": [
       "<Figure size 640x480 with 2 Axes>"
      ]
     },
     "metadata": {},
     "output_type": "display_data"
    }
   ],
   "source": [
    "cm = confusion_matrix(y_test, y_preds)\n",
    "classes = unique_labels(y_test, y_preds)\n",
    "\n",
    "fig, ax = plt.subplots()\n",
    "im = ax.imshow(cm, interpolation='nearest', cmap=plt.cm.Blues)\n",
    "ax.figure.colorbar(im, ax=ax)\n",
    "# We want to show all ticks...\n",
    "ax.set(xticks=np.arange(cm.shape[1]),\n",
    "       yticks=np.arange(cm.shape[0]),\n",
    "       # ... and label them with the respective list entries\n",
    "       xticklabels=classes, yticklabels=classes,\n",
    "       title='Confusion Matrix',\n",
    "       ylabel='True label',\n",
    "       xlabel='Predicted label')\n",
    "# Loop over data dimensions and create text annotations.\n",
    "fmt = 'd'\n",
    "thresh = cm.max() / 2.\n",
    "for i in range(cm.shape[0]):\n",
    "    for j in range(cm.shape[1]):\n",
    "        ax.text(j, i, format(cm[i, j], fmt),\n",
    "                ha=\"center\", va=\"center\",\n",
    "                color=\"white\" if cm[i, j] > thresh else \"black\")\n",
    "fig.tight_layout()\n",
    "ax"
   ]
  },
  {
   "cell_type": "markdown",
   "id": "05483bfd-2967-42cc-a889-a95f6be1076f",
   "metadata": {},
   "source": [
    "## Oversampling"
   ]
  },
  {
   "cell_type": "code",
   "execution_count": 12,
   "id": "7a8a51bb-18f3-46d7-9fed-eb955f5171c2",
   "metadata": {
    "tags": []
   },
   "outputs": [],
   "source": [
    "from imblearn.over_sampling import ADASYN"
   ]
  },
  {
   "cell_type": "code",
   "execution_count": 52,
   "id": "00cf1d14-b346-44d0-8b91-26943b457cab",
   "metadata": {},
   "outputs": [],
   "source": [
    "over_sampler = ADASYN()\n",
    "X_resampled, y_resampled = over_sampler.fit_resample(X_train_scaled, y_train)"
   ]
  },
  {
   "cell_type": "code",
   "execution_count": 53,
   "id": "94519a48-cb61-482c-a175-023cc64f514a",
   "metadata": {
    "tags": []
   },
   "outputs": [
    {
     "data": {
      "text/plain": [
       "0    3897\n",
       "1    3772\n",
       "dtype: int64"
      ]
     },
     "execution_count": 53,
     "metadata": {},
     "output_type": "execute_result"
    }
   ],
   "source": [
    "pd.Series(y_resampled).value_counts()"
   ]
  },
  {
   "cell_type": "code",
   "execution_count": 54,
   "id": "2f3a6014-9834-4638-95b0-8fee6603ce69",
   "metadata": {
    "tags": []
   },
   "outputs": [],
   "source": [
    "lr2 = LogisticRegression(max_iter=500000)\n",
    "model = lr2.fit(X_resampled, y_resampled)"
   ]
  },
  {
   "cell_type": "code",
   "execution_count": 55,
   "id": "62352574-aeee-4bfa-945a-5eeee19e7fc0",
   "metadata": {
    "tags": []
   },
   "outputs": [],
   "source": [
    "y2_preds = lr2.predict(X_test_scaled)"
   ]
  },
  {
   "cell_type": "code",
   "execution_count": 56,
   "id": "3d021b66-bf99-4e3f-b607-b5c81724a881",
   "metadata": {
    "tags": []
   },
   "outputs": [
    {
     "data": {
      "text/plain": [
       "0.6289308176100629"
      ]
     },
     "execution_count": 56,
     "metadata": {},
     "output_type": "execute_result"
    }
   ],
   "source": [
    "accuracy_score(y_test, y2_preds)"
   ]
  },
  {
   "cell_type": "code",
   "execution_count": null,
   "id": "f88a4baa-9968-4135-bab9-1b82eca5fc6a",
   "metadata": {},
   "outputs": [],
   "source": []
  }
 ],
 "metadata": {
  "kernelspec": {
   "display_name": "Python 3 (ipykernel)",
   "language": "python",
   "name": "python3"
  },
  "language_info": {
   "codemirror_mode": {
    "name": "ipython",
    "version": 3
   },
   "file_extension": ".py",
   "mimetype": "text/x-python",
   "name": "python",
   "nbconvert_exporter": "python",
   "pygments_lexer": "ipython3",
   "version": "3.9.17"
  }
 },
 "nbformat": 4,
 "nbformat_minor": 5
}
