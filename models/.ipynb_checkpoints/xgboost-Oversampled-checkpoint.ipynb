{
 "cells": [
  {
   "cell_type": "code",
   "execution_count": 1,
   "metadata": {},
   "outputs": [],
   "source": [
    "import pandas as pd\n",
    "import numpy as np\n",
    "import matplotlib.pyplot as plt\n",
    "import pickle\n",
    "from xgboost import XGBClassifier\n",
    "from sklearn.preprocessing import LabelEncoder\n",
    "import xgboost as xgb\n",
    "from sklearn.model_selection import train_test_split\n",
    "from sklearn.preprocessing import StandardScaler\n",
    "from sklearn.metrics import accuracy_score, classification_report,confusion_matrix, roc_auc_score\n",
    "from sklearn.utils.multiclass import unique_labels\n",
    "from sklearn.model_selection import GridSearchCV, RandomizedSearchCV\n",
    "import seaborn as sns\n",
    "\n",
    "%matplotlib inline\n"
   ]
  },
  {
   "cell_type": "code",
   "execution_count": 2,
   "metadata": {},
   "outputs": [],
   "source": [
    "df = pd.read_csv('../data/preprocessed_data.csv')"
   ]
  },
  {
   "cell_type": "code",
   "execution_count": 3,
   "metadata": {},
   "outputs": [],
   "source": [
    "df.dropna(subset=['Winner'], inplace=True)"
   ]
  },
  {
   "cell_type": "code",
   "execution_count": 4,
   "metadata": {},
   "outputs": [
    {
     "data": {
      "text/html": [
       "<div>\n",
       "<style scoped>\n",
       "    .dataframe tbody tr th:only-of-type {\n",
       "        vertical-align: middle;\n",
       "    }\n",
       "\n",
       "    .dataframe tbody tr th {\n",
       "        vertical-align: top;\n",
       "    }\n",
       "\n",
       "    .dataframe thead th {\n",
       "        text-align: right;\n",
       "    }\n",
       "</style>\n",
       "<table border=\"1\" class=\"dataframe\">\n",
       "  <thead>\n",
       "    <tr style=\"text-align: right;\">\n",
       "      <th></th>\n",
       "      <th>Winner</th>\n",
       "      <th>title_bout</th>\n",
       "      <th>B_avg_KD</th>\n",
       "      <th>B_avg_opp_KD</th>\n",
       "      <th>B_avg_SIG_STR_pct</th>\n",
       "      <th>B_avg_opp_SIG_STR_pct</th>\n",
       "      <th>B_avg_TD_pct</th>\n",
       "      <th>B_avg_opp_TD_pct</th>\n",
       "      <th>B_avg_SUB_ATT</th>\n",
       "      <th>B_avg_opp_SUB_ATT</th>\n",
       "      <th>...</th>\n",
       "      <th>B_Stance_Open Stance</th>\n",
       "      <th>B_Stance_Orthodox</th>\n",
       "      <th>B_Stance_Sideways</th>\n",
       "      <th>B_Stance_Southpaw</th>\n",
       "      <th>B_Stance_Switch</th>\n",
       "      <th>R_Stance_Open Stance</th>\n",
       "      <th>R_Stance_Orthodox</th>\n",
       "      <th>R_Stance_Sideways</th>\n",
       "      <th>R_Stance_Southpaw</th>\n",
       "      <th>R_Stance_Switch</th>\n",
       "    </tr>\n",
       "  </thead>\n",
       "  <tbody>\n",
       "    <tr>\n",
       "      <th>0</th>\n",
       "      <td>Red</td>\n",
       "      <td>False</td>\n",
       "      <td>0.102539</td>\n",
       "      <td>0.765625</td>\n",
       "      <td>0.455488</td>\n",
       "      <td>0.564932</td>\n",
       "      <td>0.152441</td>\n",
       "      <td>0.290742</td>\n",
       "      <td>0.756836</td>\n",
       "      <td>0.000000</td>\n",
       "      <td>...</td>\n",
       "      <td>0</td>\n",
       "      <td>1</td>\n",
       "      <td>0</td>\n",
       "      <td>0</td>\n",
       "      <td>0</td>\n",
       "      <td>0</td>\n",
       "      <td>1</td>\n",
       "      <td>0</td>\n",
       "      <td>0</td>\n",
       "      <td>0</td>\n",
       "    </tr>\n",
       "    <tr>\n",
       "      <th>1</th>\n",
       "      <td>Red</td>\n",
       "      <td>False</td>\n",
       "      <td>0.258088</td>\n",
       "      <td>0.062996</td>\n",
       "      <td>0.574714</td>\n",
       "      <td>0.458967</td>\n",
       "      <td>0.330410</td>\n",
       "      <td>0.183517</td>\n",
       "      <td>0.109620</td>\n",
       "      <td>0.502482</td>\n",
       "      <td>...</td>\n",
       "      <td>0</td>\n",
       "      <td>0</td>\n",
       "      <td>0</td>\n",
       "      <td>1</td>\n",
       "      <td>0</td>\n",
       "      <td>0</td>\n",
       "      <td>1</td>\n",
       "      <td>0</td>\n",
       "      <td>0</td>\n",
       "      <td>0</td>\n",
       "    </tr>\n",
       "    <tr>\n",
       "      <th>2</th>\n",
       "      <td>Red</td>\n",
       "      <td>False</td>\n",
       "      <td>0.000000</td>\n",
       "      <td>0.500000</td>\n",
       "      <td>0.495000</td>\n",
       "      <td>0.500000</td>\n",
       "      <td>0.000000</td>\n",
       "      <td>0.305000</td>\n",
       "      <td>0.000000</td>\n",
       "      <td>0.000000</td>\n",
       "      <td>...</td>\n",
       "      <td>0</td>\n",
       "      <td>1</td>\n",
       "      <td>0</td>\n",
       "      <td>0</td>\n",
       "      <td>0</td>\n",
       "      <td>0</td>\n",
       "      <td>1</td>\n",
       "      <td>0</td>\n",
       "      <td>0</td>\n",
       "      <td>0</td>\n",
       "    </tr>\n",
       "    <tr>\n",
       "      <th>3</th>\n",
       "      <td>Red</td>\n",
       "      <td>False</td>\n",
       "      <td>0.625000</td>\n",
       "      <td>0.000000</td>\n",
       "      <td>0.529687</td>\n",
       "      <td>0.460938</td>\n",
       "      <td>0.740938</td>\n",
       "      <td>0.312500</td>\n",
       "      <td>2.156250</td>\n",
       "      <td>0.562500</td>\n",
       "      <td>...</td>\n",
       "      <td>0</td>\n",
       "      <td>1</td>\n",
       "      <td>0</td>\n",
       "      <td>0</td>\n",
       "      <td>0</td>\n",
       "      <td>0</td>\n",
       "      <td>1</td>\n",
       "      <td>0</td>\n",
       "      <td>0</td>\n",
       "      <td>0</td>\n",
       "    </tr>\n",
       "    <tr>\n",
       "      <th>4</th>\n",
       "      <td>Red</td>\n",
       "      <td>False</td>\n",
       "      <td>0.314453</td>\n",
       "      <td>0.125000</td>\n",
       "      <td>0.444473</td>\n",
       "      <td>0.486660</td>\n",
       "      <td>0.268789</td>\n",
       "      <td>0.628281</td>\n",
       "      <td>0.640625</td>\n",
       "      <td>1.064453</td>\n",
       "      <td>...</td>\n",
       "      <td>0</td>\n",
       "      <td>1</td>\n",
       "      <td>0</td>\n",
       "      <td>0</td>\n",
       "      <td>0</td>\n",
       "      <td>0</td>\n",
       "      <td>1</td>\n",
       "      <td>0</td>\n",
       "      <td>0</td>\n",
       "      <td>0</td>\n",
       "    </tr>\n",
       "  </tbody>\n",
       "</table>\n",
       "<p>5 rows × 160 columns</p>\n",
       "</div>"
      ],
      "text/plain": [
       "  Winner  title_bout  B_avg_KD  B_avg_opp_KD  B_avg_SIG_STR_pct  \\\n",
       "0    Red       False  0.102539      0.765625           0.455488   \n",
       "1    Red       False  0.258088      0.062996           0.574714   \n",
       "2    Red       False  0.000000      0.500000           0.495000   \n",
       "3    Red       False  0.625000      0.000000           0.529687   \n",
       "4    Red       False  0.314453      0.125000           0.444473   \n",
       "\n",
       "   B_avg_opp_SIG_STR_pct  B_avg_TD_pct  B_avg_opp_TD_pct  B_avg_SUB_ATT  \\\n",
       "0               0.564932      0.152441          0.290742       0.756836   \n",
       "1               0.458967      0.330410          0.183517       0.109620   \n",
       "2               0.500000      0.000000          0.305000       0.000000   \n",
       "3               0.460938      0.740938          0.312500       2.156250   \n",
       "4               0.486660      0.268789          0.628281       0.640625   \n",
       "\n",
       "   B_avg_opp_SUB_ATT  ...  B_Stance_Open Stance  B_Stance_Orthodox  \\\n",
       "0           0.000000  ...                     0                  1   \n",
       "1           0.502482  ...                     0                  0   \n",
       "2           0.000000  ...                     0                  1   \n",
       "3           0.562500  ...                     0                  1   \n",
       "4           1.064453  ...                     0                  1   \n",
       "\n",
       "   B_Stance_Sideways  B_Stance_Southpaw  B_Stance_Switch  \\\n",
       "0                  0                  0                0   \n",
       "1                  0                  1                0   \n",
       "2                  0                  0                0   \n",
       "3                  0                  0                0   \n",
       "4                  0                  0                0   \n",
       "\n",
       "   R_Stance_Open Stance  R_Stance_Orthodox  R_Stance_Sideways  \\\n",
       "0                     0                  1                  0   \n",
       "1                     0                  1                  0   \n",
       "2                     0                  1                  0   \n",
       "3                     0                  1                  0   \n",
       "4                     0                  1                  0   \n",
       "\n",
       "   R_Stance_Southpaw  R_Stance_Switch  \n",
       "0                  0                0  \n",
       "1                  0                0  \n",
       "2                  0                0  \n",
       "3                  0                0  \n",
       "4                  0                0  \n",
       "\n",
       "[5 rows x 160 columns]"
      ]
     },
     "execution_count": 4,
     "metadata": {},
     "output_type": "execute_result"
    }
   ],
   "source": [
    "df.head()"
   ]
  },
  {
   "cell_type": "markdown",
   "metadata": {},
   "source": [
    "### Normalizing data"
   ]
  },
  {
   "cell_type": "code",
   "execution_count": 5,
   "metadata": {},
   "outputs": [],
   "source": [
    "df_num = df.select_dtypes(np.number)"
   ]
  },
  {
   "cell_type": "code",
   "execution_count": 6,
   "metadata": {},
   "outputs": [],
   "source": [
    "scaler = StandardScaler()\n",
    "\n",
    "df[list(df_num.columns)] = scaler.fit_transform(df[list(df_num.columns)])"
   ]
  },
  {
   "cell_type": "markdown",
   "metadata": {},
   "source": [
    "### Splitting into train, test"
   ]
  },
  {
   "cell_type": "code",
   "execution_count": 7,
   "metadata": {},
   "outputs": [],
   "source": [
    "y = df['Winner']\n",
    "label_encoder = LabelEncoder()\n",
    "label_encoder = label_encoder.fit(y)\n",
    "label_encoded_y = label_encoder.transform(y)\n",
    "\n",
    "X = df.drop(columns = 'Winner')\n",
    "\n",
    "X_train, X_test, y_train, y_test = train_test_split(X, label_encoded_y, test_size=0.1, random_state=41)"
   ]
  },
  {
   "cell_type": "markdown",
   "metadata": {},
   "source": [
    "### Fitting baseline Xgboost"
   ]
  },
  {
   "cell_type": "code",
   "execution_count": 8,
   "metadata": {},
   "outputs": [],
   "source": [
    "def plot_confusion(cm):\n",
    "    ax = sns.heatmap(cm, annot=True, cmap='Blues', fmt='g')\n",
    "    ax.set_title('Seaborn Confusion Matrix with labels\\n\\n');\n",
    "    ax.set_xlabel('\\nPredicted Values')\n",
    "    ax.set_ylabel('Actual Values ');\n",
    "\n",
    "    ## Ticket labels - List must be in alphabetical order\n",
    "    ax.xaxis.set_ticklabels(['False','True'])\n",
    "    ax.yaxis.set_ticklabels(['False','True'])\n",
    "    ax.set_ylim([0,2])\n",
    "\n",
    "    ## Display the visualization of the Confusion Matrix.\n",
    "    ax.invert_yaxis()\n",
    "    plt.show()\n",
    "    "
   ]
  },
  {
   "cell_type": "code",
   "execution_count": 9,
   "metadata": {},
   "outputs": [],
   "source": [
    "def modelfit(alg, X_train, y_train, X_test, y_test, useTrainCV=True, cv_folds=5, early_stopping_rounds=50):\n",
    "    \n",
    "    if useTrainCV:\n",
    "        xgb_param = alg.get_xgb_params()\n",
    "        xgtrain = xgb.DMatrix(X_train, label=y_train)\n",
    "        cvresult = xgb.cv(xgb_param, xgtrain, num_boost_round=alg.get_params()['n_estimators'], nfold=cv_folds,\n",
    "            metrics='auc', early_stopping_rounds=early_stopping_rounds)\n",
    "        alg.set_params(n_estimators=cvresult.shape[0])\n",
    "        print(f\"Best number of estimators = {cvresult.shape[0]}\")\n",
    "    \n",
    "    #Fit the algorithm on the data\n",
    "    alg.fit(np.array(X_train), np.array(y_train), eval_metric='auc')\n",
    "    \n",
    "    #Predict train set:\n",
    "    dtrain_predictions = alg.predict(np.array(X_train))\n",
    "    dtrain_predprob = alg.predict_proba(np.array(X_train))[:,1]\n",
    "        \n",
    "    #Predict test set:\n",
    "    dtest_predictions = alg.predict(np.array(X_test))\n",
    "    dtest_predprob = alg.predict_proba(np.array(X_test))[:,1]\n",
    "        \n",
    "    #Print model report:\n",
    "    print(\"\\nModel Report: \")\n",
    "    print(f\"Accuracy (Test): {accuracy_score(y_test, dtest_predictions):.4f}\")\n",
    "#     print(f\"AUC Score (Train): {roc_auc_score(y_train, dtrain_predprob)}\")\n",
    "    print(f\"AUC Score (Test): {roc_auc_score(y_test, dtest_predprob):.4f}\")\n",
    "    \n",
    "    \n",
    "    return dtest_predictions"
   ]
  },
  {
   "cell_type": "code",
   "execution_count": 10,
   "metadata": {},
   "outputs": [
    {
     "name": "stdout",
     "output_type": "stream",
     "text": [
      "Best number of estimators = 11\n"
     ]
    },
    {
     "name": "stderr",
     "output_type": "stream",
     "text": [
      "/Users/philipplangfeldt/miniforge3/envs/iron_hack/lib/python3.9/site-packages/xgboost/sklearn.py:835: UserWarning: `eval_metric` in `fit` method is deprecated for better compatibility with scikit-learn, use `eval_metric` in constructor or`set_params` instead.\n",
      "  warnings.warn(\n"
     ]
    },
    {
     "name": "stdout",
     "output_type": "stream",
     "text": [
      "\n",
      "Model Report: \n",
      "Accuracy (Test): 0.6425\n",
      "AUC Score (Test): 0.6543\n"
     ]
    },
    {
     "data": {
      "image/png": "[encoded data removed]",
      "text/plain": [
       "<Figure size 640x480 with 2 Axes>"
      ]
     },
     "metadata": {},
     "output_type": "display_data"
    }
   ],
   "source": [
    "model1 = XGBClassifier(random_state=43, n_jobs=-1)\n",
    "\n",
    "y1_preds = modelfit(model1, X_train, y_train, X_test, y_test)\n",
    "\n",
    "cm = confusion_matrix(y_test, y1_preds)\n",
    "\n",
    "plot_confusion(cm)"
   ]
  },
  {
   "cell_type": "code",
   "execution_count": 11,
   "metadata": {},
   "outputs": [
    {
     "data": {
      "text/plain": [
       "[('R_losses', 0.037384316),\n",
       " ('B_avg_SIG_STR_landed', 0.022697603),\n",
       " ('B_avg_TOTAL_STR_att', 0.01781789),\n",
       " ('B_Weight_lbs', 0.016493967),\n",
       " ('R_win_by_Decision_Split', 0.016417647),\n",
       " ('R_avg_opp_SIG_STR_landed', 0.016213039),\n",
       " ('R_avg_opp_DISTANCE_landed', 0.016196363),\n",
       " ('R_age', 0.016122343),\n",
       " ('B_age', 0.015963012),\n",
       " ('B_avg_opp_GROUND_att', 0.015645146),\n",
       " ('B_avg_SIG_STR_att', 0.014991773),\n",
       " ('B_avg_opp_DISTANCE_landed', 0.013481036),\n",
       " ('R_current_lose_streak', 0.013410509),\n",
       " ('weight_class_OpenWeight', 0.012201782),\n",
       " ('R_avg_opp_HEAD_landed', 0.011943898),\n",
       " ('R_avg_opp_SIG_STR_pct', 0.011457024),\n",
       " ('B_avg_LEG_landed', 0.011238431),\n",
       " ('B_avg_HEAD_landed', 0.011049677),\n",
       " ('B_current_win_streak', 0.010491215),\n",
       " ('R_avg_opp_BODY_att', 0.010419151),\n",
       " ('B_avg_DISTANCE_landed', 0.0099306535),\n",
       " ('R_avg_GROUND_landed', 0.009558709),\n",
       " ('R_avg_GROUND_att', 0.009501114),\n",
       " ('R_avg_opp_TD_landed', 0.009230209),\n",
       " ('R_avg_opp_SUB_ATT', 0.009133325),\n",
       " ('B_avg_opp_TD_landed', 0.00908754),\n",
       " ('R_Weight_lbs', 0.008938971),\n",
       " ('R_avg_CLINCH_att', 0.008925153),\n",
       " ('B_avg_HEAD_att', 0.008923484),\n",
       " ('B_Reach_cms', 0.0089185415),\n",
       " ('R_avg_TD_att', 0.00883669),\n",
       " ('B_avg_BODY_att', 0.008782308),\n",
       " ('R_avg_DISTANCE_landed', 0.00877202),\n",
       " ('R_avg_BODY_att', 0.008732488),\n",
       " ('B_avg_opp_GROUND_landed', 0.008696824),\n",
       " ('R_avg_TOTAL_STR_att', 0.008684374),\n",
       " ('R_avg_TD_landed', 0.008653271),\n",
       " ('R_total_time_fought(seconds)', 0.0085926885),\n",
       " ('B_avg_CLINCH_landed', 0.008496667),\n",
       " ('B_avg_TD_att', 0.00849277),\n",
       " ('R_avg_opp_TOTAL_STR_landed', 0.0084560765),\n",
       " ('B_avg_DISTANCE_att', 0.008435383),\n",
       " ('R_avg_DISTANCE_att', 0.008433335),\n",
       " ('B_avg_opp_SIG_STR_landed', 0.008418125),\n",
       " ('B_total_title_bouts', 0.008400309),\n",
       " ('R_Stance_Southpaw', 0.008325883),\n",
       " ('B_total_rounds_fought', 0.00816625),\n",
       " ('R_avg_TD_pct', 0.008128599),\n",
       " ('B_avg_opp_CLINCH_att', 0.007912829),\n",
       " ('B_avg_opp_TOTAL_STR_landed', 0.0078999335),\n",
       " ('B_avg_opp_HEAD_landed', 0.007827099),\n",
       " ('R_avg_SIG_STR_pct', 0.007817886),\n",
       " ('B_avg_BODY_landed', 0.007716251),\n",
       " ('R_Height_cms', 0.007671746),\n",
       " ('B_avg_opp_KD', 0.007641298),\n",
       " ('B_avg_opp_CLINCH_landed', 0.0076085245),\n",
       " ('weight_class_Middleweight', 0.007567182),\n",
       " ('R_avg_opp_CTRL_time(seconds)', 0.007537642),\n",
       " ('R_win_by_Submission', 0.0074952645),\n",
       " ('B_avg_opp_SUB_ATT', 0.0074394136),\n",
       " ('R_avg_opp_BODY_landed', 0.007407006),\n",
       " ('R_avg_opp_HEAD_att', 0.0074043153),\n",
       " ('R_avg_LEG_landed', 0.0073696333),\n",
       " ('B_avg_GROUND_landed', 0.007237518),\n",
       " ('R_current_win_streak', 0.00714102),\n",
       " ('R_avg_SUB_ATT', 0.0071392255),\n",
       " ('B_avg_SUB_ATT', 0.007122575),\n",
       " ('B_avg_opp_BODY_att', 0.007086855),\n",
       " ('R_avg_opp_TD_att', 0.0070810006),\n",
       " ('R_avg_opp_CLINCH_att', 0.007022329),\n",
       " ('R_avg_HEAD_landed', 0.0069510904),\n",
       " ('R_avg_opp_REV', 0.0068937126),\n",
       " ('B_avg_opp_SIG_STR_pct', 0.0068467534),\n",
       " ('R_wins', 0.0067913197),\n",
       " ('B_avg_opp_TD_pct', 0.00677826),\n",
       " ('R_avg_opp_GROUND_att', 0.0067429123),\n",
       " ('B_avg_LEG_att', 0.006724702),\n",
       " ('R_avg_opp_SIG_STR_att', 0.006652837),\n",
       " ('B_total_time_fought(seconds)', 0.006608343),\n",
       " ('B_avg_TD_landed', 0.006606609),\n",
       " ('R_avg_opp_KD', 0.0064813546),\n",
       " ('B_avg_SIG_STR_pct', 0.006443663),\n",
       " ('B_avg_opp_LEG_landed', 0.006431614),\n",
       " ('R_avg_CLINCH_landed', 0.0063514933),\n",
       " ('R_win_by_KO/TKO', 0.006253202),\n",
       " ('B_avg_CTRL_time(seconds)', 0.0062504997),\n",
       " ('B_win_by_KO/TKO', 0.0062440443),\n",
       " ('R_avg_opp_GROUND_landed', 0.0061434004),\n",
       " ('R_avg_opp_TOTAL_STR_att', 0.006131155),\n",
       " ('R_avg_REV', 0.0060748435),\n",
       " ('R_avg_opp_LEG_att', 0.0060274405),\n",
       " ('B_avg_opp_TOTAL_STR_att', 0.0060036285),\n",
       " ('B_avg_TOTAL_STR_landed', 0.005996888),\n",
       " ('R_Reach_cms', 0.0059490046),\n",
       " ('R_avg_TOTAL_STR_landed', 0.0058753174),\n",
       " ('B_avg_CLINCH_att', 0.005783893),\n",
       " ('B_avg_opp_DISTANCE_att', 0.005757093),\n",
       " ('weight_class_LightHeavyweight', 0.005674703),\n",
       " ('B_avg_REV', 0.0055956733),\n",
       " ('B_avg_opp_HEAD_att', 0.005563766),\n",
       " ('B_avg_TD_pct', 0.005389863),\n",
       " ('R_avg_opp_CLINCH_landed', 0.0050731073),\n",
       " ('B_avg_opp_CTRL_time(seconds)', 0.0050565414),\n",
       " ('B_Stance_Orthodox', 0.0050079953),\n",
       " ('B_avg_GROUND_att', 0.0049543343),\n",
       " ('R_avg_opp_DISTANCE_att', 0.004933598),\n",
       " ('B_avg_opp_BODY_landed', 0.0047947275),\n",
       " ('R_longest_win_streak', 0.004777774),\n",
       " ('R_avg_LEG_att', 0.0046585747),\n",
       " ('B_wins', 0.0045849094),\n",
       " ('B_avg_opp_TD_att', 0.0045116884),\n",
       " ('B_longest_win_streak', 0.004507821),\n",
       " ('R_avg_CTRL_time(seconds)', 0.0044596563),\n",
       " ('B_avg_opp_SIG_STR_att', 0.004443341),\n",
       " ('weight_class_Featherweight', 0.0041231695),\n",
       " ('R_avg_opp_LEG_landed', 0.0038784153),\n",
       " ('R_avg_KD', 0.0037234232),\n",
       " ('R_avg_opp_TD_pct', 0.0036812255),\n",
       " ('B_Height_cms', 0.0029318745),\n",
       " ('R_avg_BODY_landed', 0.0023283674),\n",
       " ('R_total_rounds_fought', 0.002116275),\n",
       " ('title_bout', 0.0),\n",
       " ('B_avg_KD', 0.0),\n",
       " ('B_avg_opp_REV', 0.0),\n",
       " ('B_avg_opp_LEG_att', 0.0),\n",
       " ('B_current_lose_streak', 0.0),\n",
       " ('B_losses', 0.0),\n",
       " ('B_draw', 0.0),\n",
       " ('B_win_by_Decision_Majority', 0.0),\n",
       " ('B_win_by_Decision_Split', 0.0),\n",
       " ('B_win_by_Decision_Unanimous', 0.0),\n",
       " ('B_win_by_Submission', 0.0),\n",
       " ('B_win_by_TKO_Doctor_Stoppage', 0.0),\n",
       " ('R_avg_SIG_STR_att', 0.0),\n",
       " ('R_avg_SIG_STR_landed', 0.0),\n",
       " ('R_avg_HEAD_att', 0.0),\n",
       " ('R_total_title_bouts', 0.0),\n",
       " ('R_draw', 0.0),\n",
       " ('R_win_by_Decision_Majority', 0.0),\n",
       " ('R_win_by_Decision_Unanimous', 0.0),\n",
       " ('R_win_by_TKO_Doctor_Stoppage', 0.0),\n",
       " ('weight_class_Bantamweight', 0.0),\n",
       " ('weight_class_CatchWeight', 0.0),\n",
       " ('weight_class_Flyweight', 0.0),\n",
       " ('weight_class_Heavyweight', 0.0),\n",
       " ('weight_class_Lightweight', 0.0),\n",
       " ('weight_class_Welterweight', 0.0),\n",
       " ('weight_class_WomenBantamweight', 0.0),\n",
       " ('weight_class_WomenFeatherweight', 0.0),\n",
       " ('weight_class_WomenFlyweight', 0.0),\n",
       " ('weight_class_WomenStrawweight', 0.0),\n",
       " ('B_Stance_Open Stance', 0.0),\n",
       " ('B_Stance_Sideways', 0.0),\n",
       " ('B_Stance_Southpaw', 0.0),\n",
       " ('B_Stance_Switch', 0.0),\n",
       " ('R_Stance_Open Stance', 0.0),\n",
       " ('R_Stance_Orthodox', 0.0),\n",
       " ('R_Stance_Sideways', 0.0),\n",
       " ('R_Stance_Switch', 0.0)]"
      ]
     },
     "execution_count": 11,
     "metadata": {},
     "output_type": "execute_result"
    }
   ],
   "source": [
    "feat_imps = {}\n",
    "for i, imp in enumerate(model1.feature_importances_):\n",
    "    feat_imps[X_train.columns[i]] = imp\n",
    "\n",
    "sorted_imp_feats = (sorted(feat_imps.items(), key = lambda x: x[1], reverse=True))\n",
    "sorted_imp_feats"
   ]
  },
  {
   "cell_type": "markdown",
   "metadata": {},
   "source": [
    "### Since dataset is imbalanced let's try setting scale_pos_weight to see if we get an improvement"
   ]
  },
  {
   "cell_type": "code",
   "execution_count": 12,
   "metadata": {},
   "outputs": [
    {
     "name": "stdout",
     "output_type": "stream",
     "text": [
      "Best number of estimators = 20\n"
     ]
    },
    {
     "name": "stderr",
     "output_type": "stream",
     "text": [
      "/Users/philipplangfeldt/miniforge3/envs/iron_hack/lib/python3.9/site-packages/xgboost/sklearn.py:835: UserWarning: `eval_metric` in `fit` method is deprecated for better compatibility with scikit-learn, use `eval_metric` in constructor or`set_params` instead.\n",
      "  warnings.warn(\n"
     ]
    },
    {
     "name": "stdout",
     "output_type": "stream",
     "text": [
      "\n",
      "Model Report: \n",
      "Accuracy (Test): 0.6159\n",
      "AUC Score (Test): 0.6369\n"
     ]
    },
    {
     "data": {
      "image/png": "[encoded data removed]",
      "text/plain": [
       "<Figure size 640x480 with 2 Axes>"
      ]
     },
     "metadata": {},
     "output_type": "display_data"
    }
   ],
   "source": [
    "model2 = XGBClassifier(random_state=43, n_jobs=-1, scale_pos_weight=0.7)\n",
    "\n",
    "y2_preds = modelfit(model2, X_train, y_train, X_test, y_test)\n",
    "\n",
    "cm = confusion_matrix(y_test, y2_preds)\n",
    "\n",
    "plot_confusion(cm)"
   ]
  },
  {
   "cell_type": "markdown",
   "metadata": {},
   "source": [
    "### Hyperparameter tuning "
   ]
  },
  {
   "cell_type": "code",
   "execution_count": 13,
   "metadata": {},
   "outputs": [
    {
     "name": "stdout",
     "output_type": "stream",
     "text": [
      "Best number of estimators = 65\n"
     ]
    },
    {
     "name": "stderr",
     "output_type": "stream",
     "text": [
      "/Users/philipplangfeldt/miniforge3/envs/iron_hack/lib/python3.9/site-packages/xgboost/sklearn.py:835: UserWarning: `eval_metric` in `fit` method is deprecated for better compatibility with scikit-learn, use `eval_metric` in constructor or`set_params` instead.\n",
      "  warnings.warn(\n"
     ]
    },
    {
     "name": "stdout",
     "output_type": "stream",
     "text": [
      "\n",
      "Model Report: \n",
      "Accuracy (Test): 0.6271\n",
      "AUC Score (Test): 0.6557\n"
     ]
    },
    {
     "data": {
      "image/png": "[encoded data removed]",
      "text/plain": [
       "<Figure size 640x480 with 2 Axes>"
      ]
     },
     "metadata": {},
     "output_type": "display_data"
    }
   ],
   "source": [
    "model3 = XGBClassifier(\n",
    " learning_rate =0.1,\n",
    " n_estimators=1000,\n",
    " max_depth=5,\n",
    " min_child_weight=1,\n",
    " gamma=0,\n",
    " subsample=0.8,\n",
    " colsample_bytree=0.8,\n",
    " objective= 'binary:logistic',\n",
    " nthread=4,\n",
    " scale_pos_weight=0.75,\n",
    ")\n",
    "\n",
    "y3_preds = modelfit(model3, X_train, y_train, X_test, y_test)\n",
    "\n",
    "cm = confusion_matrix(y_test, y3_preds)\n",
    "\n",
    "plot_confusion(cm)"
   ]
  },
  {
   "cell_type": "markdown",
   "metadata": {},
   "source": [
    "### Oversampling"
   ]
  },
  {
   "cell_type": "code",
   "execution_count": 14,
   "metadata": {},
   "outputs": [],
   "source": [
    "from imblearn.over_sampling import ADASYN"
   ]
  },
  {
   "cell_type": "code",
   "execution_count": 15,
   "metadata": {},
   "outputs": [],
   "source": [
    "over_sampler = ADASYN()\n",
    "X_resampled, y_resampled = over_sampler.fit_resample(X_train, y_train)"
   ]
  },
  {
   "cell_type": "code",
   "execution_count": 16,
   "metadata": {},
   "outputs": [
    {
     "data": {
      "text/plain": [
       "0    4229\n",
       "1    4221\n",
       "dtype: int64"
      ]
     },
     "execution_count": 16,
     "metadata": {},
     "output_type": "execute_result"
    }
   ],
   "source": [
    "pd.Series(y_resampled).value_counts()"
   ]
  },
  {
   "cell_type": "code",
   "execution_count": 17,
   "metadata": {},
   "outputs": [
    {
     "name": "stdout",
     "output_type": "stream",
     "text": [
      "Best number of estimators = 100\n"
     ]
    },
    {
     "name": "stderr",
     "output_type": "stream",
     "text": [
      "/Users/philipplangfeldt/miniforge3/envs/iron_hack/lib/python3.9/site-packages/xgboost/sklearn.py:835: UserWarning: `eval_metric` in `fit` method is deprecated for better compatibility with scikit-learn, use `eval_metric` in constructor or`set_params` instead.\n",
      "  warnings.warn(\n"
     ]
    },
    {
     "name": "stdout",
     "output_type": "stream",
     "text": [
      "\n",
      "Model Report: \n",
      "Accuracy (Test): 0.6453\n",
      "AUC Score (Test): 0.6515\n"
     ]
    },
    {
     "data": {
      "image/png": "[encoded data removed]",
      "text/plain": [
       "<Figure size 640x480 with 2 Axes>"
      ]
     },
     "metadata": {},
     "output_type": "display_data"
    }
   ],
   "source": [
    "model4 = XGBClassifier(n_jobs=-1, random_state=43)\n",
    "\n",
    "y4_preds = modelfit(model4, X_resampled, y_resampled, X_test, y_test)\n",
    "\n",
    "cm = confusion_matrix(y_test, y4_preds)\n",
    "\n",
    "plot_confusion(cm)"
   ]
  },
  {
   "cell_type": "markdown",
   "metadata": {},
   "source": [
    "### Hyperparameter tuning for the oversampled data"
   ]
  },
  {
   "cell_type": "code",
   "execution_count": 18,
   "metadata": {},
   "outputs": [
    {
     "name": "stdout",
     "output_type": "stream",
     "text": [
      "Best number of estimators = 244\n"
     ]
    },
    {
     "name": "stderr",
     "output_type": "stream",
     "text": [
      "/Users/philipplangfeldt/miniforge3/envs/iron_hack/lib/python3.9/site-packages/xgboost/sklearn.py:835: UserWarning: `eval_metric` in `fit` method is deprecated for better compatibility with scikit-learn, use `eval_metric` in constructor or`set_params` instead.\n",
      "  warnings.warn(\n"
     ]
    },
    {
     "name": "stdout",
     "output_type": "stream",
     "text": [
      "\n",
      "Model Report: \n",
      "Accuracy (Test): 0.6285\n",
      "AUC Score (Test): 0.6503\n"
     ]
    },
    {
     "data": {
      "image/png": "[encoded data removed]",
      "text/plain": [
       "<Figure size 640x480 with 2 Axes>"
      ]
     },
     "metadata": {},
     "output_type": "display_data"
    }
   ],
   "source": [
    "model5 = XGBClassifier(\n",
    " learning_rate =0.1,\n",
    " n_estimators=244,\n",
    " max_depth=5,\n",
    " min_child_weight=1,\n",
    " gamma=0,\n",
    " subsample=0.8,\n",
    " colsample_bytree=0.8,\n",
    " objective= 'binary:logistic',\n",
    " nthread=4,\n",
    " scale_pos_weight=1,\n",
    ")\n",
    "\n",
    "y5_preds = modelfit(model5, X_resampled, y_resampled, X_test, y_test)\n",
    "\n",
    "cm = confusion_matrix(y_test, y5_preds)\n",
    "\n",
    "plot_confusion(cm)"
   ]
  },
  {
   "cell_type": "code",
   "execution_count": 20,
   "metadata": {},
   "outputs": [
    {
     "name": "stderr",
     "output_type": "stream",
     "text": [
      "/Users/philipplangfeldt/miniforge3/envs/iron_hack/lib/python3.9/site-packages/xgboost/sklearn.py:835: UserWarning: `eval_metric` in `fit` method is deprecated for better compatibility with scikit-learn, use `eval_metric` in constructor or`set_params` instead.\n",
      "  warnings.warn(\n"
     ]
    },
    {
     "name": "stdout",
     "output_type": "stream",
     "text": [
      "\n",
      "Model Report: \n",
      "Accuracy (Test): 0.6327\n",
      "AUC Score (Test): 0.6474\n"
     ]
    },
    {
     "data": {
      "image/png": "[encoded data removed]",
      "text/plain": [
       "<Figure size 640x480 with 2 Axes>"
      ]
     },
     "metadata": {},
     "output_type": "display_data"
    }
   ],
   "source": [
    "model6 = XGBClassifier(learning_rate =0.1, n_estimators=244, max_depth=4,\n",
    "                     min_child_weight=1, gamma=0.1, subsample=0.8, colsample_bytree=0.8,\n",
    "                     objective= 'binary:logistic', reg_alpha= 0, scale_pos_weight=1)\n",
    "\n",
    "y6_preds = modelfit(model6, X_resampled, y_resampled, X_test, y_test, useTrainCV=False)\n",
    "\n",
    "cm = confusion_matrix(y_test, y6_preds)\n",
    "\n",
    "plot_confusion(cm)"
   ]
  },
  {
   "cell_type": "code",
   "execution_count": 21,
   "metadata": {},
   "outputs": [],
   "source": [
    "X_os, y_os = X_resampled, y_resampled = over_sampler.fit_resample(X, label_encoded_y)"
   ]
  },
  {
   "cell_type": "code",
   "execution_count": 22,
   "metadata": {},
   "outputs": [
    {
     "name": "stdout",
     "output_type": "stream",
     "text": [
      "              precision    recall  f1-score   support\n",
      "\n",
      "           0       0.45      0.31      0.37       239\n",
      "           1       0.70      0.81      0.75       477\n",
      "\n",
      "    accuracy                           0.64       716\n",
      "   macro avg       0.57      0.56      0.56       716\n",
      "weighted avg       0.62      0.64      0.62       716\n",
      "\n"
     ]
    }
   ],
   "source": [
    "print(classification_report(y_test, y1_preds))"
   ]
  },
  {
   "cell_type": "code",
   "execution_count": 23,
   "metadata": {},
   "outputs": [
    {
     "name": "stdout",
     "output_type": "stream",
     "text": [
      "              precision    recall  f1-score   support\n",
      "\n",
      "           0       0.43      0.44      0.43       239\n",
      "           1       0.71      0.71      0.71       477\n",
      "\n",
      "    accuracy                           0.62       716\n",
      "   macro avg       0.57      0.57      0.57       716\n",
      "weighted avg       0.62      0.62      0.62       716\n",
      "\n"
     ]
    }
   ],
   "source": [
    "print(classification_report(y_test, y2_preds))"
   ]
  },
  {
   "cell_type": "code",
   "execution_count": 24,
   "metadata": {},
   "outputs": [
    {
     "name": "stdout",
     "output_type": "stream",
     "text": [
      "              precision    recall  f1-score   support\n",
      "\n",
      "           0       0.43      0.38      0.40       239\n",
      "           1       0.71      0.75      0.73       477\n",
      "\n",
      "    accuracy                           0.63       716\n",
      "   macro avg       0.57      0.56      0.57       716\n",
      "weighted avg       0.62      0.63      0.62       716\n",
      "\n"
     ]
    }
   ],
   "source": [
    "print(classification_report(y_test, y3_preds))"
   ]
  },
  {
   "cell_type": "code",
   "execution_count": 25,
   "metadata": {},
   "outputs": [
    {
     "name": "stdout",
     "output_type": "stream",
     "text": [
      "              precision    recall  f1-score   support\n",
      "\n",
      "           0       0.46      0.41      0.44       239\n",
      "           1       0.72      0.76      0.74       477\n",
      "\n",
      "    accuracy                           0.65       716\n",
      "   macro avg       0.59      0.59      0.59       716\n",
      "weighted avg       0.64      0.65      0.64       716\n",
      "\n"
     ]
    }
   ],
   "source": [
    "print(classification_report(y_test, y4_preds))"
   ]
  },
  {
   "cell_type": "code",
   "execution_count": 26,
   "metadata": {},
   "outputs": [
    {
     "name": "stdout",
     "output_type": "stream",
     "text": [
      "              precision    recall  f1-score   support\n",
      "\n",
      "           0       0.43      0.36      0.40       239\n",
      "           1       0.70      0.76      0.73       477\n",
      "\n",
      "    accuracy                           0.63       716\n",
      "   macro avg       0.57      0.56      0.56       716\n",
      "weighted avg       0.61      0.63      0.62       716\n",
      "\n"
     ]
    }
   ],
   "source": [
    "print(classification_report(y_test, y5_preds))"
   ]
  },
  {
   "cell_type": "code",
   "execution_count": 27,
   "metadata": {},
   "outputs": [
    {
     "name": "stdout",
     "output_type": "stream",
     "text": [
      "              precision    recall  f1-score   support\n",
      "\n",
      "           0       0.43      0.36      0.40       239\n",
      "           1       0.70      0.76      0.73       477\n",
      "\n",
      "    accuracy                           0.63       716\n",
      "   macro avg       0.57      0.56      0.56       716\n",
      "weighted avg       0.61      0.63      0.62       716\n",
      "\n"
     ]
    }
   ],
   "source": [
    "print(classification_report(y_test, y5_preds))"
   ]
  },
  {
   "cell_type": "code",
   "execution_count": 28,
   "metadata": {},
   "outputs": [
    {
     "name": "stdout",
     "output_type": "stream",
     "text": [
      "              precision    recall  f1-score   support\n",
      "\n",
      "           0       0.44      0.35      0.39       239\n",
      "           1       0.70      0.77      0.74       477\n",
      "\n",
      "    accuracy                           0.63       716\n",
      "   macro avg       0.57      0.56      0.56       716\n",
      "weighted avg       0.62      0.63      0.62       716\n",
      "\n"
     ]
    }
   ],
   "source": [
    "print(classification_report(y_test, y6_preds))"
   ]
  },
  {
   "cell_type": "code",
   "execution_count": 29,
   "metadata": {},
   "outputs": [
    {
     "data": {
      "text/html": [
       "<style>#sk-container-id-1 {color: black;background-color: white;}#sk-container-id-1 pre{padding: 0;}#sk-container-id-1 div.sk-toggleable {background-color: white;}#sk-container-id-1 label.sk-toggleable__label {cursor: pointer;display: block;width: 100%;margin-bottom: 0;padding: 0.3em;box-sizing: border-box;text-align: center;}#sk-container-id-1 label.sk-toggleable__label-arrow:before {content: \"▸\";float: left;margin-right: 0.25em;color: #696969;}#sk-container-id-1 label.sk-toggleable__label-arrow:hover:before {color: black;}#sk-container-id-1 div.sk-estimator:hover label.sk-toggleable__label-arrow:before {color: black;}#sk-container-id-1 div.sk-toggleable__content {max-height: 0;max-width: 0;overflow: hidden;text-align: left;background-color: #f0f8ff;}#sk-container-id-1 div.sk-toggleable__content pre {margin: 0.2em;color: black;border-radius: 0.25em;background-color: #f0f8ff;}#sk-container-id-1 input.sk-toggleable__control:checked~div.sk-toggleable__content {max-height: 200px;max-width: 100%;overflow: auto;}#sk-container-id-1 input.sk-toggleable__control:checked~label.sk-toggleable__label-arrow:before {content: \"▾\";}#sk-container-id-1 div.sk-estimator input.sk-toggleable__control:checked~label.sk-toggleable__label {background-color: #d4ebff;}#sk-container-id-1 div.sk-label input.sk-toggleable__control:checked~label.sk-toggleable__label {background-color: #d4ebff;}#sk-container-id-1 input.sk-hidden--visually {border: 0;clip: rect(1px 1px 1px 1px);clip: rect(1px, 1px, 1px, 1px);height: 1px;margin: -1px;overflow: hidden;padding: 0;position: absolute;width: 1px;}#sk-container-id-1 div.sk-estimator {font-family: monospace;background-color: #f0f8ff;border: 1px dotted black;border-radius: 0.25em;box-sizing: border-box;margin-bottom: 0.5em;}#sk-container-id-1 div.sk-estimator:hover {background-color: #d4ebff;}#sk-container-id-1 div.sk-parallel-item::after {content: \"\";width: 100%;border-bottom: 1px solid gray;flex-grow: 1;}#sk-container-id-1 div.sk-label:hover label.sk-toggleable__label {background-color: #d4ebff;}#sk-container-id-1 div.sk-serial::before {content: \"\";position: absolute;border-left: 1px solid gray;box-sizing: border-box;top: 0;bottom: 0;left: 50%;z-index: 0;}#sk-container-id-1 div.sk-serial {display: flex;flex-direction: column;align-items: center;background-color: white;padding-right: 0.2em;padding-left: 0.2em;position: relative;}#sk-container-id-1 div.sk-item {position: relative;z-index: 1;}#sk-container-id-1 div.sk-parallel {display: flex;align-items: stretch;justify-content: center;background-color: white;position: relative;}#sk-container-id-1 div.sk-item::before, #sk-container-id-1 div.sk-parallel-item::before {content: \"\";position: absolute;border-left: 1px solid gray;box-sizing: border-box;top: 0;bottom: 0;left: 50%;z-index: -1;}#sk-container-id-1 div.sk-parallel-item {display: flex;flex-direction: column;z-index: 1;position: relative;background-color: white;}#sk-container-id-1 div.sk-parallel-item:first-child::after {align-self: flex-end;width: 50%;}#sk-container-id-1 div.sk-parallel-item:last-child::after {align-self: flex-start;width: 50%;}#sk-container-id-1 div.sk-parallel-item:only-child::after {width: 0;}#sk-container-id-1 div.sk-dashed-wrapped {border: 1px dashed gray;margin: 0 0.4em 0.5em 0.4em;box-sizing: border-box;padding-bottom: 0.4em;background-color: white;}#sk-container-id-1 div.sk-label label {font-family: monospace;font-weight: bold;display: inline-block;line-height: 1.2em;}#sk-container-id-1 div.sk-label-container {text-align: center;}#sk-container-id-1 div.sk-container {/* jupyter's `normalize.less` sets `[hidden] { display: none; }` but bootstrap.min.css set `[hidden] { display: none !important; }` so we also need the `!important` here to be able to override the default hidden behavior on the sphinx rendered scikit-learn.org. See: https://github.com/scikit-learn/scikit-learn/issues/21755 */display: inline-block !important;position: relative;}#sk-container-id-1 div.sk-text-repr-fallback {display: none;}</style><div id=\"sk-container-id-1\" class=\"sk-top-container\"><div class=\"sk-text-repr-fallback\"><pre>XGBClassifier(base_score=None, booster=None, callbacks=None,\n",
       "              colsample_bylevel=None, colsample_bynode=None,\n",
       "              colsample_bytree=0.8, early_stopping_rounds=None,\n",
       "              enable_categorical=False, eval_metric=None, feature_types=None,\n",
       "              gamma=0.1, gpu_id=None, grow_policy=None, importance_type=None,\n",
       "              interaction_constraints=None, learning_rate=0.1, max_bin=None,\n",
       "              max_cat_threshold=None, max_cat_to_onehot=None,\n",
       "              max_delta_step=None, max_depth=4, max_leaves=None,\n",
       "              min_child_weight=1, missing=nan, monotone_constraints=None,\n",
       "              n_estimators=244, n_jobs=None, num_parallel_tree=None,\n",
       "              predictor=None, random_state=None, ...)</pre><b>In a Jupyter environment, please rerun this cell to show the HTML representation or trust the notebook. <br />On GitHub, the HTML representation is unable to render, please try loading this page with nbviewer.org.</b></div><div class=\"sk-container\" hidden><div class=\"sk-item\"><div class=\"sk-estimator sk-toggleable\"><input class=\"sk-toggleable__control sk-hidden--visually\" id=\"sk-estimator-id-1\" type=\"checkbox\" checked><label for=\"sk-estimator-id-1\" class=\"sk-toggleable__label sk-toggleable__label-arrow\">XGBClassifier</label><div class=\"sk-toggleable__content\"><pre>XGBClassifier(base_score=None, booster=None, callbacks=None,\n",
       "              colsample_bylevel=None, colsample_bynode=None,\n",
       "              colsample_bytree=0.8, early_stopping_rounds=None,\n",
       "              enable_categorical=False, eval_metric=None, feature_types=None,\n",
       "              gamma=0.1, gpu_id=None, grow_policy=None, importance_type=None,\n",
       "              interaction_constraints=None, learning_rate=0.1, max_bin=None,\n",
       "              max_cat_threshold=None, max_cat_to_onehot=None,\n",
       "              max_delta_step=None, max_depth=4, max_leaves=None,\n",
       "              min_child_weight=1, missing=nan, monotone_constraints=None,\n",
       "              n_estimators=244, n_jobs=None, num_parallel_tree=None,\n",
       "              predictor=None, random_state=None, ...)</pre></div></div></div></div></div>"
      ],
      "text/plain": [
       "XGBClassifier(base_score=None, booster=None, callbacks=None,\n",
       "              colsample_bylevel=None, colsample_bynode=None,\n",
       "              colsample_bytree=0.8, early_stopping_rounds=None,\n",
       "              enable_categorical=False, eval_metric=None, feature_types=None,\n",
       "              gamma=0.1, gpu_id=None, grow_policy=None, importance_type=None,\n",
       "              interaction_constraints=None, learning_rate=0.1, max_bin=None,\n",
       "              max_cat_threshold=None, max_cat_to_onehot=None,\n",
       "              max_delta_step=None, max_depth=4, max_leaves=None,\n",
       "              min_child_weight=1, missing=nan, monotone_constraints=None,\n",
       "              n_estimators=244, n_jobs=None, num_parallel_tree=None,\n",
       "              predictor=None, random_state=None, ...)"
      ]
     },
     "execution_count": 29,
     "metadata": {},
     "output_type": "execute_result"
    }
   ],
   "source": [
    "model = model6\n",
    "\n",
    "model.fit(np.array(X_os), np.array(y_os))"
   ]
  },
  {
   "cell_type": "code",
   "execution_count": 30,
   "metadata": {},
   "outputs": [],
   "source": [
    "with open('../data/xgboost_oversampled.pkl', 'wb') as mdl:\n",
    "    pickle.dump(model, mdl)"
   ]
  }
 ],
 "metadata": {
  "kernelspec": {
   "display_name": "Python 3 (ipykernel)",
   "language": "python",
   "name": "python3"
  },
  "language_info": {
   "codemirror_mode": {
    "name": "ipython",
    "version": 3
   },
   "file_extension": ".py",
   "mimetype": "text/x-python",
   "name": "python",
   "nbconvert_exporter": "python",
   "pygments_lexer": "ipython3",
   "version": "3.9.17"
  }
 },
 "nbformat": 4,
 "nbformat_minor": 4
}
