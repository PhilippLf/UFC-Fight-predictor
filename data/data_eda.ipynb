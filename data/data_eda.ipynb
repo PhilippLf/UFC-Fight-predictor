{
 "cells": [
  {
   "cell_type": "code",
   "execution_count": 1,
   "id": "24874611-033e-4b31-b9a1-3a151ed0f6f9",
   "metadata": {
    "tags": []
   },
   "outputs": [],
   "source": [
    "import pandas as pd"
   ]
  },
  {
   "cell_type": "code",
   "execution_count": 2,
   "id": "785ad807-26d1-46cf-95fd-486cb7c36cd0",
   "metadata": {
    "tags": []
   },
   "outputs": [],
   "source": [
    "df = pd.read_csv('data.csv')"
   ]
  },
  {
   "cell_type": "code",
   "execution_count": 3,
   "id": "1fad9dd5-69f6-43c4-942f-1beb553aded2",
   "metadata": {
    "tags": []
   },
   "outputs": [
    {
     "name": "stdout",
     "output_type": "stream",
     "text": [
      "<class 'pandas.core.frame.DataFrame'>\n",
      "RangeIndex: 7284 entries, 0 to 7283\n",
      "Columns: 144 entries, R_fighter to R_age\n",
      "dtypes: bool(1), float64(118), int64(16), object(9)\n",
      "memory usage: 8.0+ MB\n"
     ]
    }
   ],
   "source": [
    "df.info()"
   ]
  },
  {
   "cell_type": "code",
   "execution_count": 4,
   "id": "e75d429c-5249-4389-832f-201735d61a29",
   "metadata": {
    "tags": []
   },
   "outputs": [
    {
     "data": {
      "text/html": [
       "<div>\n",
       "<style scoped>\n",
       "    .dataframe tbody tr th:only-of-type {\n",
       "        vertical-align: middle;\n",
       "    }\n",
       "\n",
       "    .dataframe tbody tr th {\n",
       "        vertical-align: top;\n",
       "    }\n",
       "\n",
       "    .dataframe thead th {\n",
       "        text-align: right;\n",
       "    }\n",
       "</style>\n",
       "<table border=\"1\" class=\"dataframe\">\n",
       "  <thead>\n",
       "    <tr style=\"text-align: right;\">\n",
       "      <th></th>\n",
       "      <th>R_fighter</th>\n",
       "      <th>B_fighter</th>\n",
       "      <th>Referee</th>\n",
       "      <th>date</th>\n",
       "      <th>location</th>\n",
       "      <th>Winner</th>\n",
       "      <th>title_bout</th>\n",
       "      <th>weight_class</th>\n",
       "      <th>B_avg_KD</th>\n",
       "      <th>B_avg_opp_KD</th>\n",
       "      <th>...</th>\n",
       "      <th>R_win_by_Decision_Unanimous</th>\n",
       "      <th>R_win_by_KO/TKO</th>\n",
       "      <th>R_win_by_Submission</th>\n",
       "      <th>R_win_by_TKO_Doctor_Stoppage</th>\n",
       "      <th>R_Stance</th>\n",
       "      <th>R_Height_cms</th>\n",
       "      <th>R_Reach_cms</th>\n",
       "      <th>R_Weight_lbs</th>\n",
       "      <th>B_age</th>\n",
       "      <th>R_age</th>\n",
       "    </tr>\n",
       "  </thead>\n",
       "  <tbody>\n",
       "    <tr>\n",
       "      <th>0</th>\n",
       "      <td>Max Holloway</td>\n",
       "      <td>Chan Sung Jung</td>\n",
       "      <td>NaN</td>\n",
       "      <td>2023-08-26</td>\n",
       "      <td>Kallang, Singapore</td>\n",
       "      <td>Red</td>\n",
       "      <td>False</td>\n",
       "      <td>Featherweight</td>\n",
       "      <td>0.102539</td>\n",
       "      <td>0.765625</td>\n",
       "      <td>...</td>\n",
       "      <td>8.0</td>\n",
       "      <td>8.0</td>\n",
       "      <td>2.0</td>\n",
       "      <td>1.0</td>\n",
       "      <td>Orthodox</td>\n",
       "      <td>180.34</td>\n",
       "      <td>175.26</td>\n",
       "      <td>145.0</td>\n",
       "      <td>36.0</td>\n",
       "      <td>31.0</td>\n",
       "    </tr>\n",
       "    <tr>\n",
       "      <th>1</th>\n",
       "      <td>Giga Chikadze</td>\n",
       "      <td>Alex Caceres</td>\n",
       "      <td>Marc Goddard</td>\n",
       "      <td>2023-08-26</td>\n",
       "      <td>Kallang, Singapore</td>\n",
       "      <td>Red</td>\n",
       "      <td>False</td>\n",
       "      <td>Featherweight</td>\n",
       "      <td>0.258088</td>\n",
       "      <td>0.062996</td>\n",
       "      <td>...</td>\n",
       "      <td>2.0</td>\n",
       "      <td>3.0</td>\n",
       "      <td>0.0</td>\n",
       "      <td>0.0</td>\n",
       "      <td>Orthodox</td>\n",
       "      <td>182.88</td>\n",
       "      <td>187.96</td>\n",
       "      <td>145.0</td>\n",
       "      <td>35.0</td>\n",
       "      <td>35.0</td>\n",
       "    </tr>\n",
       "    <tr>\n",
       "      <th>2</th>\n",
       "      <td>Waldo Cortes-Acosta</td>\n",
       "      <td>Lukasz Brzeski</td>\n",
       "      <td>Mark Craig</td>\n",
       "      <td>2023-08-26</td>\n",
       "      <td>Kallang, Singapore</td>\n",
       "      <td>Red</td>\n",
       "      <td>False</td>\n",
       "      <td>Heavyweight</td>\n",
       "      <td>0.000000</td>\n",
       "      <td>0.500000</td>\n",
       "      <td>...</td>\n",
       "      <td>2.0</td>\n",
       "      <td>0.0</td>\n",
       "      <td>0.0</td>\n",
       "      <td>0.0</td>\n",
       "      <td>Orthodox</td>\n",
       "      <td>193.04</td>\n",
       "      <td>198.12</td>\n",
       "      <td>260.0</td>\n",
       "      <td>31.0</td>\n",
       "      <td>31.0</td>\n",
       "    </tr>\n",
       "    <tr>\n",
       "      <th>3</th>\n",
       "      <td>Erin Blanchfield</td>\n",
       "      <td>Taila Santos</td>\n",
       "      <td>Thomas Fan</td>\n",
       "      <td>2023-08-26</td>\n",
       "      <td>Kallang, Singapore</td>\n",
       "      <td>Red</td>\n",
       "      <td>False</td>\n",
       "      <td>WomenFlyweight</td>\n",
       "      <td>0.625000</td>\n",
       "      <td>0.000000</td>\n",
       "      <td>...</td>\n",
       "      <td>2.0</td>\n",
       "      <td>0.0</td>\n",
       "      <td>3.0</td>\n",
       "      <td>0.0</td>\n",
       "      <td>Orthodox</td>\n",
       "      <td>162.56</td>\n",
       "      <td>167.64</td>\n",
       "      <td>125.0</td>\n",
       "      <td>30.0</td>\n",
       "      <td>24.0</td>\n",
       "    </tr>\n",
       "    <tr>\n",
       "      <th>4</th>\n",
       "      <td>Anthony Smith</td>\n",
       "      <td>Ryan Spann</td>\n",
       "      <td>Mark Craig</td>\n",
       "      <td>2023-08-26</td>\n",
       "      <td>Kallang, Singapore</td>\n",
       "      <td>Red</td>\n",
       "      <td>False</td>\n",
       "      <td>LightHeavyweight</td>\n",
       "      <td>0.314453</td>\n",
       "      <td>0.125000</td>\n",
       "      <td>...</td>\n",
       "      <td>1.0</td>\n",
       "      <td>5.0</td>\n",
       "      <td>4.0</td>\n",
       "      <td>1.0</td>\n",
       "      <td>Orthodox</td>\n",
       "      <td>193.04</td>\n",
       "      <td>193.04</td>\n",
       "      <td>205.0</td>\n",
       "      <td>32.0</td>\n",
       "      <td>35.0</td>\n",
       "    </tr>\n",
       "  </tbody>\n",
       "</table>\n",
       "<p>5 rows × 144 columns</p>\n",
       "</div>"
      ],
      "text/plain": [
       "             R_fighter       B_fighter       Referee        date  \\\n",
       "0         Max Holloway  Chan Sung Jung           NaN  2023-08-26   \n",
       "1        Giga Chikadze    Alex Caceres  Marc Goddard  2023-08-26   \n",
       "2  Waldo Cortes-Acosta  Lukasz Brzeski    Mark Craig  2023-08-26   \n",
       "3     Erin Blanchfield    Taila Santos    Thomas Fan  2023-08-26   \n",
       "4        Anthony Smith      Ryan Spann    Mark Craig  2023-08-26   \n",
       "\n",
       "             location Winner  title_bout      weight_class  B_avg_KD  \\\n",
       "0  Kallang, Singapore    Red       False     Featherweight  0.102539   \n",
       "1  Kallang, Singapore    Red       False     Featherweight  0.258088   \n",
       "2  Kallang, Singapore    Red       False       Heavyweight  0.000000   \n",
       "3  Kallang, Singapore    Red       False    WomenFlyweight  0.625000   \n",
       "4  Kallang, Singapore    Red       False  LightHeavyweight  0.314453   \n",
       "\n",
       "   B_avg_opp_KD  ...  R_win_by_Decision_Unanimous  R_win_by_KO/TKO  \\\n",
       "0      0.765625  ...                          8.0              8.0   \n",
       "1      0.062996  ...                          2.0              3.0   \n",
       "2      0.500000  ...                          2.0              0.0   \n",
       "3      0.000000  ...                          2.0              0.0   \n",
       "4      0.125000  ...                          1.0              5.0   \n",
       "\n",
       "   R_win_by_Submission  R_win_by_TKO_Doctor_Stoppage  R_Stance  R_Height_cms  \\\n",
       "0                  2.0                           1.0  Orthodox        180.34   \n",
       "1                  0.0                           0.0  Orthodox        182.88   \n",
       "2                  0.0                           0.0  Orthodox        193.04   \n",
       "3                  3.0                           0.0  Orthodox        162.56   \n",
       "4                  4.0                           1.0  Orthodox        193.04   \n",
       "\n",
       "   R_Reach_cms  R_Weight_lbs  B_age  R_age  \n",
       "0       175.26         145.0   36.0   31.0  \n",
       "1       187.96         145.0   35.0   35.0  \n",
       "2       198.12         260.0   31.0   31.0  \n",
       "3       167.64         125.0   30.0   24.0  \n",
       "4       193.04         205.0   32.0   35.0  \n",
       "\n",
       "[5 rows x 144 columns]"
      ]
     },
     "execution_count": 4,
     "metadata": {},
     "output_type": "execute_result"
    }
   ],
   "source": [
    "df.head()"
   ]
  },
  {
   "cell_type": "code",
   "execution_count": 6,
   "id": "2b49bea0-652e-4c02-a872-deb19f420957",
   "metadata": {
    "tags": []
   },
   "outputs": [
    {
     "data": {
      "text/plain": [
       "'2023-08-26'"
      ]
     },
     "execution_count": 6,
     "metadata": {},
     "output_type": "execute_result"
    }
   ],
   "source": [
    "df['date'].max()"
   ]
  },
  {
   "cell_type": "code",
   "execution_count": 7,
   "id": "f1e8f939-f5ad-44a3-96bf-dbc36f44a470",
   "metadata": {
    "tags": []
   },
   "outputs": [
    {
     "data": {
      "text/plain": [
       "'1994-03-11'"
      ]
     },
     "execution_count": 7,
     "metadata": {},
     "output_type": "execute_result"
    }
   ],
   "source": [
    "df['date'].min()"
   ]
  },
  {
   "cell_type": "code",
   "execution_count": null,
   "id": "f6c4385b-f5a4-473a-98ad-947d2161e1a6",
   "metadata": {},
   "outputs": [],
   "source": []
  }
 ],
 "metadata": {
  "kernelspec": {
   "display_name": "Python 3 (ipykernel)",
   "language": "python",
   "name": "python3"
  },
  "language_info": {
   "codemirror_mode": {
    "name": "ipython",
    "version": 3
   },
   "file_extension": ".py",
   "mimetype": "text/x-python",
   "name": "python",
   "nbconvert_exporter": "python",
   "pygments_lexer": "ipython3",
   "version": "3.9.17"
  }
 },
 "nbformat": 4,
 "nbformat_minor": 5
}
